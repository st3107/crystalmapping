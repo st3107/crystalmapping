get_ipython().run_line_magic("run", " -i namespace.py")


plt.figure(figsize=(8, 6))
plt.imshow(plt.imread("data/rod_picture.png"))
plt.axis("off")
plt.show()


run = DB[UID["uid"].loc[1]]
metadata = run.metadata['start'].to_dict()
run


data = run.primary.to_dask()
data = data.assign_attrs(metadata)
data = data.set_coords(["mXBase", "mXBase_user_setpoint", "mYBase", "mYBase_user_setpoint"])
data["index"] = (["time"], list(range(data.time.shape[0])))
data = data.set_index({"time": "index"})
data


total_intensity = reshape(data, "dexela_stats1_total")


_ = my_color_map(total_intensity, size=12)


# here the position is the motor position
condition = (data.mXBase_user_setpoint==3.) & (data.mYBase_user_setpoint==70.)
background_dexela_image = data["dexela_image"][4524].compute()
background_dexela_image


_ = my_color_map(background_dexela_image, size=10)


test_dexela_image = data["dexela_image"][2514].compute()
test_dexela_image


_ = my_color_map(test_dexela_image, size=10)


test_result = average_subtract_fill_zero(test_dexela_image, background_dexela_image)
test_result


_ = my_color_map(test_result, size=10)


df = my_locate(test_result, minmass=15000)
df


fig = plt.figure(figsize=(5, 5))
ax = fig.add_subplot(111)
my_annotate_image(df, test_result, ax)


another_image = data["dexela_image"][4523]
processed_image = average_subtract_fill_zero(another_image, background_dexela_image)
df = my_locate(processed_image, minmass=15000)


fig = plt.figure(figsize=(5, 5))
ax = fig.add_subplot(111)
my_annotate_image(df, processed_image, ax)



