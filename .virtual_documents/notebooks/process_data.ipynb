get_ipython().run_line_magic("run", " -i namespace.py")


run = DB[UID["uid"].iloc[1]]
data = run.primary.to_dask()


df = process_images_and_track_peaks(data["dexela_image"], 4524, minmass=15000)
df.to_csv("data/tracking/{}.csv".format(UID["uid"].iloc[1]))



