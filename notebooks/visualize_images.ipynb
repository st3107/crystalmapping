{
 "cells": [
  {
   "cell_type": "markdown",
   "id": "martial-romance",
   "metadata": {},
   "source": [
    "# Visualization of images and sum of an area\n",
    "\n",
    "Visualize the image in an array using the jupyter widget."
   ]
  },
  {
   "cell_type": "code",
   "execution_count": 1,
   "id": "intensive-defeat",
   "metadata": {},
   "outputs": [],
   "source": [
    "import xarray as xr\n",
    "import matplotlib.pyplot as plt\n",
    "import matplotlib.patches as patches\n",
    "from ipywidgets import interact\n",
    "import ipywidgets as widgets\n",
    "import numpy as np"
   ]
  },
  {
   "cell_type": "code",
   "execution_count": 2,
   "id": "aerial-weekly",
   "metadata": {},
   "outputs": [],
   "source": [
    "# test data\n",
    "DATA = xr.load_dataset(\"data/grid_scan.nc\")"
   ]
  },
  {
   "cell_type": "code",
   "execution_count": 3,
   "id": "approved-smooth",
   "metadata": {},
   "outputs": [],
   "source": [
    "# image array\n",
    "IMAGES = DATA[\"pe1_image\"]\n",
    "SUMMED = DATA.drop(\"pe1_image\")\n",
    "maxVal = IMAGES.max()"
   ]
  },
  {
   "cell_type": "code",
   "execution_count": 4,
   "id": "roman-dancing",
   "metadata": {},
   "outputs": [],
   "source": [
    "# widgets\n",
    "index_widget = widgets.IntSlider(min=0, max=IMAGES.shape[0] - 1, step=1)\n",
    "xlim_widget = widgets.IntRangeSlider(min=0, max=IMAGES.shape[1] - 1, step=1)\n",
    "ylim_widget = widgets.IntRangeSlider(min=0, max=IMAGES.shape[2] - 1, step=1)\n",
    "vlim_widget = widgets.FloatRangeSlider(min=0., max=maxVal)"
   ]
  },
  {
   "cell_type": "code",
   "execution_count": 5,
   "id": "geological-understanding",
   "metadata": {},
   "outputs": [],
   "source": [
    "def processData(label: str):\n",
    "    \"\"\"Process the images and save the data in the NEWDATA.\"\"\"\n",
    "    r0, r1 = ylim_widget.value\n",
    "    c0, c1 = xlim_widget.value\n",
    "    SUMMED.update({label: ([\"time\"], [np.sum(image[r0:r1+1][c0:c1+1]) for image in IMAGES])})"
   ]
  },
  {
   "cell_type": "code",
   "execution_count": 6,
   "id": "streaming-toyota",
   "metadata": {},
   "outputs": [
    {
     "data": {
      "application/vnd.jupyter.widget-view+json": {
       "model_id": "17ce7d681bf7464291dd0646aa24c82a",
       "version_major": 2,
       "version_minor": 0
      },
      "text/plain": [
       "interactive(children=(IntSlider(value=0, description='index', max=8), IntRangeSlider(value=(511, 1535), descri…"
      ]
     },
     "metadata": {},
     "output_type": "display_data"
    }
   ],
   "source": [
    "@interact(\n",
    "    index=index_widget,\n",
    "    xlim=xlim_widget,\n",
    "    ylim=ylim_widget,\n",
    "    vlim=vlim_widget\n",
    ")\n",
    "def visImageWtihMask(index, xlim, ylim, vlim, **kwargs):\n",
    "    vmin, vmax = vlim\n",
    "    x0, x1 = xlim\n",
    "    y0, y1 = ylim\n",
    "    facet = IMAGES[index].plot.imshow(aspect=1.2, size=10, vmin=vmin, vmax=vmax, **kwargs)\n",
    "    rect = patches.Rectangle((x0, y0), x1 - x0, y1 - y0, facecolor='none', edgecolor='r')\n",
    "    facet.axes.add_patch(rect)\n",
    "    plt.show()"
   ]
  },
  {
   "cell_type": "code",
   "execution_count": 7,
   "id": "permanent-measure",
   "metadata": {},
   "outputs": [],
   "source": [
    "def reshape(arr: xr.DataArray, *args):\n",
    "    values = arr.values.reshape(args[1::2])\n",
    "    dims = args[::2]\n",
    "    return xr.DataArray(values, dims=dims)"
   ]
  },
  {
   "cell_type": "code",
   "execution_count": 8,
   "id": "solar-order",
   "metadata": {},
   "outputs": [],
   "source": [
    "processData(\"pe1_image_sum\")"
   ]
  },
  {
   "cell_type": "code",
   "execution_count": 9,
   "id": "practical-technology",
   "metadata": {},
   "outputs": [
    {
     "data": {
      "image/png": "[encoded data removed]",
      "text/plain": [
       "<Figure size 864x720 with 2 Axes>"
      ]
     },
     "metadata": {
      "needs_background": "light"
     },
     "output_type": "display_data"
    }
   ],
   "source": [
    "RESHAPED = SUMMED.map(reshape, args=(\"y\", 3, \"x\", 3))\n",
    "RESHAPED['pe1_image_sum'].plot.pcolormesh(aspect=1.2, size=10)\n",
    "plt.show()"
   ]
  }
 ],
 "metadata": {
  "kernelspec": {
   "display_name": "Python [conda env:test_xpdstack]",
   "language": "python",
   "name": "conda-env-test_xpdstack-py"
  },
  "language_info": {
   "codemirror_mode": {
    "name": "ipython",
    "version": 3
   },
   "file_extension": ".py",
   "mimetype": "text/x-python",
   "name": "python",
   "nbconvert_exporter": "python",
   "pygments_lexer": "ipython3",
   "version": "3.8.8"
  }
 },
 "nbformat": 4,
 "nbformat_minor": 5
}
