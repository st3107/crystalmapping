{
 "cells": [
  {
   "cell_type": "markdown",
   "id": "2f5e3f53",
   "metadata": {},
   "source": [
    "# Calibration"
   ]
  },
  {
   "cell_type": "code",
   "execution_count": 1,
   "id": "ed3786f4",
   "metadata": {},
   "outputs": [
    {
     "name": "stderr",
     "output_type": "stream",
     "text": [
      "WARNING:silx.opencl.common:The module pyOpenCL has been imported but can't be used here\n"
     ]
    },
    {
     "name": "stdout",
     "output_type": "stream",
     "text": [
      "Namespace: ['Client', 'In', 'Out', 'cbs', 'db_ana', 'db_csv', 'db_raw', 'df_uid', 'exit', 'get_ipython', 'mpl', 'np', 'pd', 'plt', 'pymongo', 'quit', 'tp', 'utils', 'xr']\n"
     ]
    }
   ],
   "source": [
    "%run -i startup.py"
   ]
  },
  {
   "cell_type": "markdown",
   "id": "6efc15ec",
   "metadata": {},
   "source": [
    "## Find the calibration run"
   ]
  },
  {
   "cell_type": "code",
   "execution_count": null,
   "id": "3208e399",
   "metadata": {},
   "outputs": [],
   "source": []
  }
 ],
 "metadata": {
  "kernelspec": {
   "display_name": "Python [conda env:tomology]",
   "language": "python",
   "name": "conda-env-tomology-py"
  },
  "language_info": {
   "codemirror_mode": {
    "name": "ipython",
    "version": 3
   },
   "file_extension": ".py",
   "mimetype": "text/x-python",
   "name": "python",
   "nbconvert_exporter": "python",
   "pygments_lexer": "ipython3",
   "version": "3.7.10"
  }
 },
 "nbformat": 4,
 "nbformat_minor": 5
}
