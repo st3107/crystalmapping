{
 "cells": [
  {
   "cell_type": "markdown",
   "id": "dac627ad",
   "metadata": {},
   "source": [
    "# Run experiments at NSLS-II\n",
    "\n",
    "Here, we demonstrate the example code to run the fly scan and grid scan experiment at the NSLS-II."
   ]
  },
  {
   "cell_type": "markdown",
   "id": "3f970681",
   "metadata": {},
   "source": [
    "## Simulated motors and detectors\n",
    "\n",
    "To demonstrate the example, we set up some simulated motors and detectors for better description. During the beamtime, these objects will be connected to the real devices."
   ]
  },
  {
   "cell_type": "code",
   "execution_count": 1,
   "id": "596a19aa",
   "metadata": {},
   "outputs": [],
   "source": [
    "import tomography.sim as sim\n",
    "\n",
    "# An area detector behind the sample\n",
    "detector = sim.FakeAreaDetector(name=\"image\")\n",
    "# A motor to control the vertical position of the sample stage\n",
    "motor_y = sim.SynAxis(name=\"y\")\n",
    "# A motor to control the horizontal position of the sample stage\n",
    "motor_x = sim.SynAxis(name=\"x\")\n",
    "# A motor to control the orientaion of the sample stage\n",
    "motor_phi = sim.SynAxis(name=\"phi\")\n",
    "# A fast shutter\n",
    "shutter = sim.SynSignal(name=\"shutter\")"
   ]
  },
  {
   "cell_type": "markdown",
   "id": "b3d50a65",
   "metadata": {},
   "source": [
    "## Fly scan\n",
    "\n",
    "A fly scan is to move to a position in the motor positions space, start the movement of a fly motor and take light images for specific times during the non-stopping movement and then move to the next point and repeat.\n",
    "\n",
    "Please the document of the function to know the syntax."
   ]
  },
  {
   "cell_type": "code",
   "execution_count": 2,
   "id": "e9b8a514",
   "metadata": {},
   "outputs": [
    {
     "name": "stdout",
     "output_type": "stream",
     "text": [
      "Help on function fly_scan_nd in module tomography.plans:\n",
      "\n",
      "fly_scan_nd(detectors: list, *args, move_velocity: float, time_per_point: float, time_per_frame: float, shutter: object, shutter_open: Any, shutter_close: Any, shutter_wait_open: float = 0.0, shutter_wait_close: float = 0.0, take_dark: bool = True, md: dict = None, backoff: float = 0.0, snake: bool = False) -> <class 'Generic'>\n",
      "    Move on a grid and do a fly scan at each point in the grid.\n",
      "    \n",
      "    For example, `fly_scan_nd([detector], motor_y, 0, 10, 11, motor_x, 0, 20, 21, motor_fly, 0, 5, 6, time_per_point=10, time_per_frame=1, shutter=shutter, shutter_open=1, shutter_close=0, shutter_wait_open=2, shutter_wait_close=5, move_velocity=5, take_dark=True, md={\"task\": \"fly scan sample 1\", backoff=0.5, snake=False})` means that\n",
      "    \n",
      "    set detector so that it will collect one image for 10 s\n",
      "    one image contains 10 frames and each frame for 1 s\n",
      "    for y in 0, 1, 2, ..., 10:\n",
      "        for x in 0, 1, 2, ..., 20:\n",
      "            move to (x, y)\n",
      "            wait 5 s\n",
      "            collect dark image during the movement\n",
      "            open shutter\n",
      "            wait 2 s\n",
      "            fly scan the motor_fly from -0.5 to 5.5\n",
      "            collect 6 images during the fly\n",
      "            close shutter          \n",
      "    \n",
      "    Parameters\n",
      "    ----------\n",
      "    detectors : list\n",
      "        A list of detectors. The first one must be an area detector. The list shouldn't include the motors in the `args`.\n",
      "    *args :\n",
      "        patterned like (``motor1, start1, stop1, num1,``\n",
      "                        ``motor2, start2, stop2, num2,``\n",
      "                        ``motor3, start3, stop3, num3,`` ...\n",
      "                        ``motorN, startN, stopN, numN``)\n",
      "    \n",
      "        The first motor is the \"slowest\", the outer loop. The last motor\n",
      "        is the \"fly\" motor, the non-stoping scan along an axis. For all motors\n",
      "        except the first motor, there is a \"snake\" argument: a boolean\n",
      "        indicating whether to following snake-like, winding trajectory or a\n",
      "        simple left-to-right trajectory.\n",
      "    move_velocity : float\n",
      "        The speed for the motors to move to the next grid point.\n",
      "    time_per_point : float\n",
      "        The time to collect one image at one point.\n",
      "    time_per_frame : float\n",
      "        The time to collect one frame in a image. One image contains serveral frames.\n",
      "    shutter : object\n",
      "        The fast shutter.\n",
      "    shutter_open : typing.Any\n",
      "        The value of the shutter in open state.\n",
      "    shutter_close : typing.Any\n",
      "        The value of the shutter in close state.\n",
      "    shutter_wait_open : float, optional\n",
      "        The time between the shutter open and the start of the light image collection, by default 0.\n",
      "    shutter_wait_close : float, optional\n",
      "        The time between the shutter close and the start of the dark image collection, by default 0.\n",
      "    take_dark : bool, optional\n",
      "        If true, take a dark image at the end of the fly scan, by default True\n",
      "    md : dict, optional\n",
      "        The dictionary of the metadata to added into the plan, by default None\n",
      "    backoff : float, optional\n",
      "        If non-zero, fly scan from start - backoff to end + backoff, by default 0.\n",
      "    snake : bool, optional\n",
      "        If true, snake the axis of the fly scan, by default False\n",
      "    \n",
      "    Returns\n",
      "    -------\n",
      "    typing.Generic\n",
      "        The generator of the plan.\n",
      "    \n",
      "    Yields\n",
      "    -------\n",
      "    Iterator[typing.Generic]\n",
      "        The messages of the plan.\n",
      "    \n",
      "    Raises\n",
      "    ------\n",
      "    TomoPlanError\n",
      "        Empty detector list.\n",
      "    TomoPlanError\n",
      "        Not enough motors.\n",
      "    TomoPlanError\n",
      "        Wrong motor positions format.\n",
      "\n"
     ]
    }
   ],
   "source": [
    "import tomography.plans as plans\n",
    "\n",
    "help(plans.fly_scan_nd)"
   ]
  },
  {
   "cell_type": "markdown",
   "id": "5d943ee7",
   "metadata": {},
   "source": [
    "### Fly scan in rows\n",
    "\n",
    "Here is an example of fly scan in rows."
   ]
  },
  {
   "cell_type": "code",
   "execution_count": 3,
   "id": "4e0c03d4",
   "metadata": {},
   "outputs": [],
   "source": [
    "plan = plans.fly_scan_nd(\n",
    "    [detector], \n",
    "    motor_y, 0.0, 20.0, 3, \n",
    "    motor_x, -5, 25, 3, \n",
    "    move_velocity=10.0, \n",
    "    time_per_point=1.0,\n",
    "    time_per_frame=1.0,\n",
    "    shutter=shutter,\n",
    "    shutter_open=\"open\",\n",
    "    shutter_close=\"close\",\n",
    "    shutter_wait_open=1.0,\n",
    "    shutter_wait_close=5.0,\n",
    "    take_dark=True,\n",
    "    md={\"sample\": \"A rod\"}\n",
    ")"
   ]
  },
  {
   "cell_type": "markdown",
   "id": "9f1d07c4",
   "metadata": {},
   "source": [
    "The pseudo-code of it can be expressed as below.\n",
    "\n",
    "```\n",
    "for y in 0, 10, 20:\n",
    "    move to y\n",
    "    close shutter\n",
    "    wait 5 s\n",
    "    take dark during the movement\n",
    "    open shutter\n",
    "    fly scan x from -5 to 25, collect 3 images\n",
    "```"
   ]
  },
  {
   "cell_type": "markdown",
   "id": "a9563873",
   "metadata": {},
   "source": [
    "Here, we print out the details in this plan. Please pay attention to the manner of the shutter in the run to better understand the logic of the dark frame."
   ]
  },
  {
   "cell_type": "code",
   "execution_count": 4,
   "id": "288b621e",
   "metadata": {},
   "outputs": [
    {
     "name": "stdout",
     "output_type": "stream",
     "text": [
      "image_cam_acquire_time -> 1.0\n",
      "image_images_per_set -> 1\n",
      "=================================== Open Run ===================================\n",
      "*** all positions for x_velocity are relative to current position ***\n",
      "x_velocity -> 10.0\n",
      "y -> 0.0\n",
      "x -> -5.0\n",
      "  Read ['image']\n",
      "x_velocity -> 10.0\n",
      "shutter -> open\n",
      "x -> 25.0\n",
      "start_x -> None\n",
      "stop_x -> None\n",
      "  Read ['image', 'start_x', 'stop_x', 'x_velocity']\n",
      "start_x -> None\n",
      "stop_x -> None\n",
      "  Read ['image', 'start_x', 'stop_x', 'x_velocity']\n",
      "start_x -> None\n",
      "stop_x -> None\n",
      "  Read ['image', 'start_x', 'stop_x', 'x_velocity']\n",
      "shutter -> close\n",
      "x_velocity -> 10.0\n",
      "y -> 10.0\n",
      "x -> -5.0\n",
      "  Read ['image']\n",
      "x_velocity -> 10.0\n",
      "shutter -> open\n",
      "x -> 25.0\n",
      "start_x -> None\n",
      "stop_x -> None\n",
      "  Read ['image', 'start_x', 'stop_x', 'x_velocity']\n",
      "start_x -> None\n",
      "stop_x -> None\n",
      "  Read ['image', 'start_x', 'stop_x', 'x_velocity']\n",
      "start_x -> None\n",
      "stop_x -> None\n",
      "  Read ['image', 'start_x', 'stop_x', 'x_velocity']\n",
      "shutter -> close\n",
      "x_velocity -> 10.0\n",
      "y -> 20.0\n",
      "x -> -5.0\n",
      "  Read ['image']\n",
      "x_velocity -> 10.0\n",
      "shutter -> open\n",
      "x -> 25.0\n",
      "start_x -> None\n",
      "stop_x -> None\n",
      "  Read ['image', 'start_x', 'stop_x', 'x_velocity']\n",
      "start_x -> None\n",
      "stop_x -> None\n",
      "  Read ['image', 'start_x', 'stop_x', 'x_velocity']\n",
      "start_x -> None\n",
      "stop_x -> None\n",
      "  Read ['image', 'start_x', 'stop_x', 'x_velocity']\n",
      "shutter -> close\n",
      "================================== Close Run ===================================\n",
      "x_velocity -> 0\n"
     ]
    }
   ],
   "source": [
    "import bluesky.simulators as bss\n",
    "import itertools as it\n",
    "\n",
    "copys = it.tee(plan, 2)\n",
    "bss.summarize_plan(copys[0])"
   ]
  },
  {
   "cell_type": "markdown",
   "id": "3b58ee44",
   "metadata": {},
   "source": [
    "Here, we plot the trajectory of the stage. Be mindful that the beam moves in the opposite direction in the sample frame. A lager y means the beam aiming at a lower part of the sample."
   ]
  },
  {
   "cell_type": "code",
   "execution_count": 5,
   "id": "6d3f3ae8",
   "metadata": {},
   "outputs": [
    {
     "data": {
      "image/png": "[encoded data removed]",
      "text/plain": [
       "<Figure size 432x288 with 1 Axes>"
      ]
     },
     "metadata": {
      "needs_background": "light"
     },
     "output_type": "display_data"
    }
   ],
   "source": [
    "import matplotlib.pyplot as plt\n",
    "\n",
    "bss.plot_raster_path(copys[1], \"x\", \"y\")\n",
    "plt.show()"
   ]
  },
  {
   "cell_type": "markdown",
   "id": "133c942f",
   "metadata": {},
   "source": [
    "### Fly scan in rocking curves on a grid\n",
    "\n",
    "A more complicated example is to move the sample in a grid and fly in the rotation."
   ]
  },
  {
   "cell_type": "code",
   "execution_count": 6,
   "id": "3d6e7fa5",
   "metadata": {},
   "outputs": [],
   "source": [
    "plan = plans.fly_scan_nd(\n",
    "    [detector], \n",
    "    motor_y, 0.0, 20.0, 3, \n",
    "    motor_x, 0.0, 20.0, 3,\n",
    "    motor_phi, -1.5, 1.5, 3,\n",
    "    move_velocity=10.0, \n",
    "    time_per_point=1.0,\n",
    "    time_per_frame=1.0,\n",
    "    shutter=shutter,\n",
    "    shutter_open=\"open\",\n",
    "    shutter_close=\"close\",\n",
    "    shutter_wait_open=1.0,\n",
    "    shutter_wait_close=5.0,\n",
    "    take_dark=True,\n",
    "    md={\"sample\": \"A rod\"}\n",
    ")"
   ]
  },
  {
   "cell_type": "markdown",
   "id": "d2fed3d7",
   "metadata": {},
   "source": [
    "The pseudo-code of it is shown below.\n",
    "\n",
    "```\n",
    "for y in 0, 10, 20:\n",
    "    for x in 0, 10, 20:\n",
    "        move to (x, y)\n",
    "        close shutter\n",
    "        wait 5 s\n",
    "        take dark during the movement\n",
    "        open shutter\n",
    "        fly scan phi from -1.5 to 1.5, collect 3 images\n",
    "```"
   ]
  },
  {
   "cell_type": "markdown",
   "id": "179cb761",
   "metadata": {},
   "source": [
    "We plot the trajectory in (x, y) plane. At each point, there is a fly scan in the phi axis."
   ]
  },
  {
   "cell_type": "code",
   "execution_count": 7,
   "id": "6dde02b0",
   "metadata": {},
   "outputs": [
    {
     "name": "stdout",
     "output_type": "stream",
     "text": [
      "*** all positions for phi_velocity are relative to current position ***\n"
     ]
    },
    {
     "data": {
      "image/png": "[encoded data removed]",
      "text/plain": [
       "<Figure size 432x288 with 1 Axes>"
      ]
     },
     "metadata": {
      "needs_background": "light"
     },
     "output_type": "display_data"
    }
   ],
   "source": [
    "bss.plot_raster_path(plan, \"x\", \"y\")\n",
    "plt.show()"
   ]
  },
  {
   "cell_type": "markdown",
   "id": "57313684",
   "metadata": {},
   "source": [
    "## Grid scan\n",
    "\n",
    "A grid scan is to move to a point in the motor positions space, stay there, collect one image at that point and then move to the next point and repeat.\n",
    "\n",
    "Please read the document below about the syntax of the function."
   ]
  },
  {
   "cell_type": "code",
   "execution_count": 8,
   "id": "9bb52bd0",
   "metadata": {},
   "outputs": [
    {
     "name": "stdout",
     "output_type": "stream",
     "text": [
      "Help on function grid_scan_nd in module tomography.plans:\n",
      "\n",
      "grid_scan_nd(detectors: list, *args, snake: Union[list, bool] = None, time_per_point: float, time_per_frame: float, shutter: object, shutter_open: Any, shutter_close: Any, shutter_wait_open: float = 0.0, shutter_wait_close: float = 0.0, take_dark: bool = True, md=None) -> <class 'Generic'>\n",
      "    Scan over a mesh; each motor is on an independent trajectory.\n",
      "    \n",
      "    Parameters\n",
      "    ----------\n",
      "    detectors : list\n",
      "        A list of 'readable' objects\n",
      "    *args :\n",
      "        patterned like (``motor1, start1, stop1, num1,``\n",
      "                        ``motor2, start2, stop2, num2,``\n",
      "                        ``motor3, start3, stop3, num3,`` ...\n",
      "                        ``motorN, startN, stopN, numN``)\n",
      "    \n",
      "        The first motor is the \"slowest\", the outer loop. The last motor\n",
      "        is the \"fly\" motor, the non-stoping scan along an axis. For all motors\n",
      "        except the first motor, there is a \"snake\" argument: a boolean\n",
      "        indicating whether to following snake-like, winding trajectory or a\n",
      "        simple left-to-right trajectory.\n",
      "    snake : bool, optional\n",
      "        If true, snake the axis of the fly scan, by default None\n",
      "    time_per_point : float\n",
      "        The time to collect one image at one point.\n",
      "    time_per_frame : float\n",
      "        The time to collect one frame in a image. One image contains serveral frames.\n",
      "    time_per_point : float\n",
      "        The time to collect one image at one point.\n",
      "    time_per_frame : float\n",
      "        The time to collect one frame in a image. One image contains serveral frames.\n",
      "    shutter : object\n",
      "        The fast shutter.\n",
      "    shutter_open : typing.Any\n",
      "        The value of the shutter in open state.\n",
      "    shutter_close : typing.Any\n",
      "        The value of the shutter in close state.\n",
      "    shutter_wait_open : float, optional\n",
      "        The time between the shutter open and the start of the light image collection, by default 0.\n",
      "    shutter_wait_close : float, optional\n",
      "        The time between the shutter close and the start of the dark image collection, by default 0.\n",
      "    take_dark : bool, optional\n",
      "        If true, take a dark image at the end of the fly scan, by default True\n",
      "    md : [type], optional\n",
      "        The dictionary of the metadata to added into the plan, by default None, by default None\n",
      "    \n",
      "    Returns\n",
      "    -------\n",
      "    typing.Generic\n",
      "        The generator of the plan.\n",
      "    \n",
      "    Yields\n",
      "    -------\n",
      "    Iterator[typing.Generic]\n",
      "        The messages of the plan.\n",
      "    \n",
      "    Raises\n",
      "    ------\n",
      "    TomoPlanError\n",
      "        Empty detector list.\n",
      "    TomoPlanError\n",
      "        Not enough motors.\n",
      "    TomoPlanError\n",
      "        Wrong motor positions format.\n",
      "\n"
     ]
    }
   ],
   "source": [
    "help(plans.grid_scan_nd)"
   ]
  },
  {
   "cell_type": "markdown",
   "id": "ad90a577",
   "metadata": {},
   "source": [
    "## Grid scan in (x, y) plane\n",
    "\n",
    "Below is an example to do grid scan in rows."
   ]
  },
  {
   "cell_type": "code",
   "execution_count": 9,
   "id": "4a716b4d",
   "metadata": {},
   "outputs": [],
   "source": [
    "plan = plans.grid_scan_nd(\n",
    "    [detector], \n",
    "    motor_y, 0.0, 20.0, 3, \n",
    "    motor_x, 0.0, 20.0, 3,\n",
    "    time_per_point=1.0,\n",
    "    time_per_frame=1.0,\n",
    "    shutter=shutter,\n",
    "    shutter_open=\"open\",\n",
    "    shutter_close=\"close\",\n",
    "    shutter_wait_open=1.0,\n",
    "    shutter_wait_close=5.0,\n",
    "    take_dark=True,\n",
    "    md={\"sample\": \"A rod\"}\n",
    ")"
   ]
  },
  {
   "cell_type": "markdown",
   "id": "2b1b15f0",
   "metadata": {},
   "source": [
    "The pseudo-code of it can be expressed as below.\n",
    "\n",
    "```\n",
    "for y in 0, 10, 20:\n",
    "    for x in 0, 10, 20:\n",
    "        move to (x, y)\n",
    "        if y moves in this step:\n",
    "            close shutter\n",
    "            wait 5 s\n",
    "            take dark during the movement\n",
    "            open shutter\n",
    "        collect 1 image\n",
    "```"
   ]
  },
  {
   "cell_type": "markdown",
   "id": "90a697d9",
   "metadata": {},
   "source": [
    "We print out the details of the plans."
   ]
  },
  {
   "cell_type": "code",
   "execution_count": 10,
   "id": "cdb12c6d",
   "metadata": {},
   "outputs": [
    {
     "name": "stdout",
     "output_type": "stream",
     "text": [
      "image_cam_acquire_time -> 1.0\n",
      "image_images_per_set -> 1\n",
      "shutter -> open\n",
      "=================================== Open Run ===================================\n",
      "y -> 0.0\n",
      "x -> 0.0\n",
      "shutter -> close\n",
      "  Read ['image']\n",
      "shutter -> open\n",
      "  Read ['image']\n",
      "y -> 0.0\n",
      "x -> 10.0\n",
      "  Read ['image']\n",
      "y -> 0.0\n",
      "x -> 20.0\n",
      "  Read ['image']\n",
      "y -> 10.0\n",
      "x -> 0.0\n",
      "shutter -> close\n",
      "  Read ['image']\n",
      "shutter -> open\n",
      "  Read ['image']\n",
      "y -> 10.0\n",
      "x -> 10.0\n",
      "  Read ['image']\n",
      "y -> 10.0\n",
      "x -> 20.0\n",
      "  Read ['image']\n",
      "y -> 20.0\n",
      "x -> 0.0\n",
      "shutter -> close\n",
      "  Read ['image']\n",
      "shutter -> open\n",
      "  Read ['image']\n",
      "y -> 20.0\n",
      "x -> 10.0\n",
      "  Read ['image']\n",
      "y -> 20.0\n",
      "x -> 20.0\n",
      "  Read ['image']\n",
      "================================== Close Run ===================================\n",
      "shutter -> close\n"
     ]
    }
   ],
   "source": [
    "copys = it.tee(plan, 2)\n",
    "bss.summarize_plan(copys[0])"
   ]
  },
  {
   "cell_type": "markdown",
   "id": "86cce23d",
   "metadata": {},
   "source": [
    "We plot the trajectory of the stage."
   ]
  },
  {
   "cell_type": "code",
   "execution_count": 11,
   "id": "625c03c2",
   "metadata": {},
   "outputs": [
    {
     "data": {
      "image/png": "[encoded data removed]",
      "text/plain": [
       "<Figure size 432x288 with 1 Axes>"
      ]
     },
     "metadata": {
      "needs_background": "light"
     },
     "output_type": "display_data"
    }
   ],
   "source": [
    "bss.plot_raster_path(copys[1], \"x\", \"y\")\n",
    "plt.show()"
   ]
  },
  {
   "cell_type": "markdown",
   "id": "f3aabff6",
   "metadata": {},
   "source": [
    "### Grid scan in (phi, x, y) space\n",
    "\n",
    "We can use arbitrary number of the motors in a grid scan. Here, we show an example to do a scan in a three dimensional space."
   ]
  },
  {
   "cell_type": "code",
   "execution_count": 12,
   "id": "7295377d",
   "metadata": {},
   "outputs": [],
   "source": [
    "plan = plans.grid_scan_nd(\n",
    "    [detector], \n",
    "    motor_y, 0.0, 20.0, 3, \n",
    "    motor_x, 0.0, 20.0, 3,\n",
    "    motor_phi, -1, 1, 3,\n",
    "    time_per_point=1.0,\n",
    "    time_per_frame=1.0,\n",
    "    shutter=shutter,\n",
    "    shutter_open=\"open\",\n",
    "    shutter_close=\"close\",\n",
    "    shutter_wait_open=1.0,\n",
    "    shutter_wait_close=5.0,\n",
    "    take_dark=True,\n",
    "    md={\"sample\": \"A rod\"}\n",
    ")"
   ]
  },
  {
   "cell_type": "markdown",
   "id": "02bb184d",
   "metadata": {},
   "source": [
    "The pseudo-code of it is described as below.\n",
    "\n",
    "```\n",
    "for y in 0, 10, 20:\n",
    "    for x in 0, 10, 20:\n",
    "        for phi in -1, 0, 1:\n",
    "            move to (phi, x, y)\n",
    "            if y moves in this step:\n",
    "                close shutter\n",
    "                wait 5 s\n",
    "                take dark during the movement\n",
    "                open shutter\n",
    "            collect 1 image\n",
    "```"
   ]
  },
  {
   "cell_type": "markdown",
   "id": "4537dacf",
   "metadata": {},
   "source": [
    "The trajectory in (x, y) plane is shown below. At each (x, y) point, there is a scan at three points along phi axis."
   ]
  },
  {
   "cell_type": "code",
   "execution_count": 13,
   "id": "887e9c94",
   "metadata": {},
   "outputs": [
    {
     "data": {
      "image/png": "[encoded data removed]",
      "text/plain": [
       "<Figure size 432x288 with 1 Axes>"
      ]
     },
     "metadata": {
      "needs_background": "light"
     },
     "output_type": "display_data"
    }
   ],
   "source": [
    "bss.plot_raster_path(plan, \"x\", \"y\")\n",
    "plt.show()"
   ]
  }
 ],
 "metadata": {
  "kernelspec": {
   "display_name": "Python [conda env:tomology]",
   "language": "python",
   "name": "conda-env-tomology-py"
  },
  "language_info": {
   "codemirror_mode": {
    "name": "ipython",
    "version": 3
   },
   "file_extension": ".py",
   "mimetype": "text/x-python",
   "name": "python",
   "nbconvert_exporter": "python",
   "pygments_lexer": "ipython3",
   "version": "3.7.10"
  }
 },
 "nbformat": 4,
 "nbformat_minor": 5
}
