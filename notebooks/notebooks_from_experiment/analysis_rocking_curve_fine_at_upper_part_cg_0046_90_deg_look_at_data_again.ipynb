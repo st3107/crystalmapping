{
 "cells": [
  {
   "cell_type": "markdown",
   "id": "139f3439-e1f0-4a92-90ea-e979f0c8df37",
   "metadata": {},
   "source": [
    "# Run analysis on the data"
   ]
  },
  {
   "cell_type": "code",
   "execution_count": 1,
   "id": "7342c3dc-2cff-4496-8404-9de6a54060e3",
   "metadata": {},
   "outputs": [
    {
     "name": "stderr",
     "output_type": "stream",
     "text": [
      "/home/xf28id2/conda_envs/khalifah_20210725/lib/python3.9/site-packages/pims/image_reader.py:26: RuntimeWarning: PIMS image_reader.py could not find scikit-image. Falling back to matplotlib's imread(), which uses floats instead of integers. This may break your scripts. \n",
      "(To ignore this warning, include the line \"warnings.simplefilter(\"ignore\", RuntimeWarning)\" in your script.)\n",
      "  warnings.warn(RuntimeWarning(ski_preferred))\n",
      "WARNING:silx.opencl.common:Unable to import pyOpenCl. Please install it from: https://pypi.org/project/pyopencl\n"
     ]
    }
   ],
   "source": [
    "%run -i ~/Documents/tomology/tomography/utils.py"
   ]
  },
  {
   "cell_type": "code",
   "execution_count": 2,
   "id": "e34c3868-1118-4368-83e7-dfecded474ad",
   "metadata": {},
   "outputs": [],
   "source": [
    "%matplotlib inline"
   ]
  },
  {
   "cell_type": "code",
   "execution_count": 43,
   "id": "b92cc0f6-13f3-4966-b2c2-1a3f41a4bcc2",
   "metadata": {},
   "outputs": [],
   "source": [
    "%matplotlib qt"
   ]
  },
  {
   "cell_type": "code",
   "execution_count": 3,
   "id": "047edb7d-6d1d-473b-b576-af1886ba4b48",
   "metadata": {},
   "outputs": [],
   "source": [
    "import pyFAI\n",
    "import pathlib\n",
    "\n",
    "from ipywidgets import interact_manual\n",
    "import matplotlib as mpl"
   ]
  },
  {
   "cell_type": "code",
   "execution_count": 4,
   "id": "d612b0c3-e5cb-4066-b617-4f69fafd7b31",
   "metadata": {},
   "outputs": [],
   "source": [
    "focus_id = \"1098ceb5-1cf5-4dc0-8e1e-7f0b2ba7ab08\"\n",
    "slit_id = \"4c3a71a5-3046-418e-8ea1-3e009f2d9877\""
   ]
  },
  {
   "cell_type": "code",
   "execution_count": 65,
   "id": "cec7a175-1756-41cf-8ce1-3012c03eb9fb",
   "metadata": {},
   "outputs": [],
   "source": [
    "focus = xr.load_dataset(\"/nsls2/data/xpd/legacy/processed/xpdUser/tiff_base/CG-0046_1098ceb5-1cf5-4dc0-8e1e-7f0b2ba7ab08.nc\")\n",
    "slit = xr.load_dataset(\"/nsls2/data/xpd/legacy/processed/xpdUser/tiff_base/CG-0046_4c3a71a5-3046-418e-8ea1-3e009f2d9877.nc\")"
   ]
  },
  {
   "cell_type": "code",
   "execution_count": 66,
   "id": "d69ab7db-043a-4f7c-9d48-3ace83535b47",
   "metadata": {},
   "outputs": [],
   "source": [
    "sel_focus = focus[\"intensity\"][:20]\n",
    "sel_slit = slit[\"intensity\"][:20]"
   ]
  },
  {
   "cell_type": "code",
   "execution_count": 67,
   "id": "3a2fe038-05a8-41ac-b7a6-a058dca636ab",
   "metadata": {},
   "outputs": [],
   "source": [
    "sel_focus = sel_focus - sel_focus.min(axis=1)\n",
    "sel_slit = sel_slit - sel_slit.min(axis=1)"
   ]
  },
  {
   "cell_type": "code",
   "execution_count": 68,
   "id": "2f911d36-98fa-4c11-b460-28b3fdb99aed",
   "metadata": {},
   "outputs": [],
   "source": [
    "focus_int = sel_fcous.sum(axis=1)\n",
    "slit_int = sel_slit.sum(axis=1)"
   ]
  },
  {
   "cell_type": "code",
   "execution_count": 69,
   "id": "510f6356-349c-48ac-8921-8c7f5385bd86",
   "metadata": {},
   "outputs": [],
   "source": [
    "sel_focus2 = sel_focus.sortby(focus_int, ascending=False)\n",
    "sel_slit2 = sel_slit.sortby(slit_int, ascending=False)"
   ]
  },
  {
   "cell_type": "code",
   "execution_count": 70,
   "id": "aeb38c60-ac3b-4b3a-9884-4a9ef8bf6509",
   "metadata": {},
   "outputs": [],
   "source": [
    "sel_focus3 = sel_focus2 / sel_focus2.max(axis=1)\n",
    "sel_slit3 = sel_slit2 / sel_slit2.max(axis=1)"
   ]
  },
  {
   "cell_type": "code",
   "execution_count": 71,
   "id": "e865941a-1851-4ec6-8bc1-92767d1b4c02",
   "metadata": {},
   "outputs": [],
   "source": [
    "sel_slit4 = sel_slit3.assign_coords({\"dim_0\": sel_slit3[\"dim_0\"] + 0.06})"
   ]
  },
  {
   "cell_type": "code",
   "execution_count": 76,
   "id": "27e3a63d-31dd-4a43-ba7e-e05f87067374",
   "metadata": {},
   "outputs": [],
   "source": [
    "facet = sel_focus3[:5].plot.line(col=\"grain\", label=\"focus\", sharey=False)\n",
    "axes = facet.axes.flatten()\n",
    "for i in range(5):\n",
    "    sel_slit4[i].plot.line(ax=axes[i], label=\"slit\")\n",
    "for i in range(5):\n",
    "    axes[i].legend()\n",
    "for i in range(5):\n",
    "    x = focus.isel({\"grain\": i})[\"x\"].item()\n",
    "    y = focus.isel({\"grain\": i})[\"y\"].item()\n",
    "    axes[i].set_title(\"x, y = {}, {}\".format(x, y))\n",
    "plt.show()"
   ]
  },
  {
   "cell_type": "code",
   "execution_count": 77,
   "id": "41ebca94-cff5-4402-b0eb-ff9b55a08410",
   "metadata": {},
   "outputs": [],
   "source": [
    "sel_focus3.to_netcdf(\"/nsls2/data/xpd/legacy/processed/xpdUser/tiff_base/CG-0046_1098ceb5-1cf5-4dc0-8e1e-7f0b2ba7ab08_processed_rocking_curve.nc\")\n",
    "sel_slit4.to_netcdf(\"/nsls2/data/xpd/legacy/processed/xpdUser/tiff_base/CG-0046_4c3a71a5-3046-418e-8ea1-3e009f2d9877_processed_rocking_curve.nc\")"
   ]
  }
 ],
 "metadata": {
  "kernelspec": {
   "display_name": "Python 3 (ipykernel)",
   "language": "python",
   "name": "python3"
  },
  "language_info": {
   "codemirror_mode": {
    "name": "ipython",
    "version": 3
   },
   "file_extension": ".py",
   "mimetype": "text/x-python",
   "name": "python",
   "nbconvert_exporter": "python",
   "pygments_lexer": "ipython3",
   "version": "3.9.6"
  }
 },
 "nbformat": 4,
 "nbformat_minor": 5
}
