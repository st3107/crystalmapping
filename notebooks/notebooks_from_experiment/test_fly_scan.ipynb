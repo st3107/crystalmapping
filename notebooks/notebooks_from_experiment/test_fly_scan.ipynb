{
 "cells": [
  {
   "cell_type": "code",
   "execution_count": 1,
   "id": "tracked-singles",
   "metadata": {},
   "outputs": [],
   "source": [
    "%matplotlib qt"
   ]
  },
  {
   "cell_type": "code",
   "execution_count": 2,
   "id": "decimal-adolescent",
   "metadata": {},
   "outputs": [
    {
     "name": "stderr",
     "output_type": "stream",
     "text": [
      "environment variable BLUESKY_IPYTHON_LOG_FILE is not set, using default file path '/home/xf28id2/.cache/bluesky/log/bluesky_ipython.log'\n"
     ]
    },
    {
     "name": "stdout",
     "output_type": "stream",
     "text": [
      "Activating auto-logging. Current session state plus future input saved.\n",
      "Filename       : /home/xf28id2/.cache/bluesky/log/bluesky_ipython.log\n",
      "Mode           : append\n",
      "Output logging : True\n",
      "Raw input log  : False\n",
      "Timestamping   : True\n",
      "State          : active\n",
      "Exception reporting mode: Minimal\n"
     ]
    }
   ],
   "source": [
    "%run -i ~/Documents/profile_collection/startup/00-startup.py"
   ]
  },
  {
   "cell_type": "code",
   "execution_count": 3,
   "id": "intensive-steps",
   "metadata": {},
   "outputs": [],
   "source": [
    "%run -i ~/Documents/profile_collection/startup/20-motors.py\n",
    "%run -i ~/Documents/profile_collection/startup/21-signals.py\n",
    "%run -i ~/Documents/profile_collection/startup/30-detectors_and_cameras.py\n",
    "%run -i ~/Documents/profile_collection/startup/90-functions.py"
   ]
  },
  {
   "cell_type": "code",
   "execution_count": 4,
   "id": "gothic-wisconsin",
   "metadata": {},
   "outputs": [],
   "source": [
    "%run -i ~/Documents/tomology/tomography/plans.py"
   ]
  },
  {
   "cell_type": "code",
   "execution_count": 5,
   "id": "narrative-postage",
   "metadata": {},
   "outputs": [],
   "source": [
    "from databroker import catalog\n",
    "raw = catalog['xpdd']"
   ]
  },
  {
   "cell_type": "code",
   "execution_count": 6,
   "id": "associate-nature",
   "metadata": {},
   "outputs": [
    {
     "data": {
      "text/plain": [
       "2"
      ]
     },
     "execution_count": 6,
     "metadata": {},
     "output_type": "execute_result"
    }
   ],
   "source": [
    "from bluesky.callbacks.zmq import Publisher\n",
    "\n",
    "publisher = Publisher((\"localhost\", 5567), prefix=b'raw')\n",
    "RE.subscribe(publisher)"
   ]
  },
  {
   "cell_type": "code",
   "execution_count": 7,
   "id": "controlled-windsor",
   "metadata": {},
   "outputs": [],
   "source": [
    "SHUTTER_CLOSE = -47\n",
    "SHUTTER_OPEN = 0"
   ]
  },
  {
   "cell_type": "code",
   "execution_count": 10,
   "id": "average-flower",
   "metadata": {},
   "outputs": [
    {
     "data": {
      "text/plain": [
       "OrderedDict([('mBaseX', {'value': -0.875, 'timestamp': 1627239746.726856}),\n",
       "             ('mBaseX_user_setpoint',\n",
       "              {'value': -0.875, 'timestamp': 1627239746.726856})])"
      ]
     },
     "execution_count": 10,
     "metadata": {},
     "output_type": "execute_result"
    }
   ],
   "source": [
    "mBaseX.read()"
   ]
  },
  {
   "cell_type": "code",
   "execution_count": 11,
   "id": "broad-mineral",
   "metadata": {},
   "outputs": [
    {
     "data": {
      "text/plain": [
       "OrderedDict([('mBaseY', {'value': 45.0, 'timestamp': 1627240031.886038}),\n",
       "             ('mBaseY_user_setpoint',\n",
       "              {'value': 45.0, 'timestamp': 1627240031.886038})])"
      ]
     },
     "execution_count": 11,
     "metadata": {},
     "output_type": "execute_result"
    }
   ],
   "source": [
    "mBaseY.read()"
   ]
  },
  {
   "cell_type": "code",
   "execution_count": 23,
   "id": "valid-peoples",
   "metadata": {},
   "outputs": [],
   "source": [
    "plan = fly_scan_nd(\n",
    "    [dexela_c], \n",
    "    mBaseY, 45.0, 45.06, 3, \n",
    "    mBaseX, -0.94, -1.0, 3, \n",
    "    move_velocity=0.04,\n",
    "    time_per_point=1.,\n",
    "    time_per_frame=1.,\n",
    "    shutter=FastShutter,\n",
    "    shutter_close=SHUTTER_CLOSE,\n",
    "    shutter_open=SHUTTER_OPEN,\n",
    "    md={\"task\": \"a test\"}\n",
    ")"
   ]
  },
  {
   "cell_type": "code",
   "execution_count": 24,
   "id": "dramatic-craft",
   "metadata": {},
   "outputs": [
    {
     "name": "stdout",
     "output_type": "stream",
     "text": [
      "\n",
      "\n",
      "Transient Scan ID: 15     Time: 2021-07-25 16:30:21\n",
      "Persistent Unique Scan ID: '8a0ffc58-12e1-4bdb-9b00-1807e5ad1ad9'\n",
      "New stream: 'dark'\n",
      "New stream: 'primary'\n",
      "+-----------+------------+--------------+------------+---------------------+\n",
      "|   seq_num |       time | start_mBaseX |     mBaseY | dexela_stats1_total |\n",
      "+-----------+------------+--------------+------------+---------------------+\n",
      "|         1 | 16:30:24.7 |       -0.940 |    45.0000 |          5792099669 |\n",
      "|         2 | 16:30:25.7 |       -0.952 |    45.0000 |          5793831522 |\n",
      "|         3 | 16:30:26.8 |       -0.971 |    45.0000 |          5793224915 |\n",
      "|         4 | 16:30:30.7 |       -0.940 |    45.0300 |          5792086807 |\n",
      "|         5 | 16:30:31.7 |       -0.957 |    45.0300 |          5792079751 |\n",
      "|         6 | 16:30:32.7 |       -0.977 |    45.0300 |          5792108551 |\n",
      "|         7 | 16:30:36.7 |       -0.940 |    45.0600 |          5793494186 |\n",
      "|         8 | 16:30:37.7 |       -0.960 |    45.0600 |          5793956316 |\n",
      "|         9 | 16:30:38.7 |       -0.980 |    45.0600 |          5793916575 |\n",
      "+-----------+------------+--------------+------------+---------------------+\n",
      "generator fly_scan_nd ['8a0ffc58'] (scan num: 15)\n",
      "\n",
      "\n",
      "\n"
     ]
    },
    {
     "data": {
      "text/plain": [
       "('8a0ffc58-12e1-4bdb-9b00-1807e5ad1ad9',)"
      ]
     },
     "execution_count": 24,
     "metadata": {},
     "output_type": "execute_result"
    }
   ],
   "source": [
    "RE(plan)"
   ]
  }
 ],
 "metadata": {
  "kernelspec": {
   "display_name": "Python 3",
   "language": "python",
   "name": "python3"
  },
  "language_info": {
   "codemirror_mode": {
    "name": "ipython",
    "version": 3
   },
   "file_extension": ".py",
   "mimetype": "text/x-python",
   "name": "python",
   "nbconvert_exporter": "python",
   "pygments_lexer": "ipython3",
   "version": "3.7.7"
  }
 },
 "nbformat": 4,
 "nbformat_minor": 5
}
