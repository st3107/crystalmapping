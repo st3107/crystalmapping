{
 "cells": [
  {
   "cell_type": "markdown",
   "id": "139f3439-e1f0-4a92-90ea-e979f0c8df37",
   "metadata": {},
   "source": [
    "# Run analysis on the data"
   ]
  },
  {
   "cell_type": "code",
   "execution_count": 37,
   "id": "e34c3868-1118-4368-83e7-dfecded474ad",
   "metadata": {},
   "outputs": [],
   "source": [
    "%matplotlib qt"
   ]
  },
  {
   "cell_type": "code",
   "execution_count": 2,
   "id": "7342c3dc-2cff-4496-8404-9de6a54060e3",
   "metadata": {},
   "outputs": [
    {
     "name": "stderr",
     "output_type": "stream",
     "text": [
      "/home/xf28id2/conda_envs/khalifah_20210725/lib/python3.9/site-packages/pims/image_reader.py:26: RuntimeWarning: PIMS image_reader.py could not find scikit-image. Falling back to matplotlib's imread(), which uses floats instead of integers. This may break your scripts. \n",
      "(To ignore this warning, include the line \"warnings.simplefilter(\"ignore\", RuntimeWarning)\" in your script.)\n",
      "  warnings.warn(RuntimeWarning(ski_preferred))\n",
      "WARNING:silx.opencl.common:Unable to import pyOpenCl. Please install it from: https://pypi.org/project/pyopencl\n"
     ]
    }
   ],
   "source": [
    "%run -i ~/Documents/tomology/tomography/utils.py"
   ]
  },
  {
   "cell_type": "code",
   "execution_count": 3,
   "id": "047edb7d-6d1d-473b-b576-af1886ba4b48",
   "metadata": {},
   "outputs": [],
   "source": [
    "import pyFAI\n",
    "import pathlib\n",
    "\n",
    "from ipywidgets import interact_manual"
   ]
  },
  {
   "cell_type": "markdown",
   "id": "2c1ac9a3-ef96-451d-bc53-323ee8951ae2",
   "metadata": {},
   "source": [
    "## Create the calculator"
   ]
  },
  {
   "cell_type": "code",
   "execution_count": 4,
   "id": "bb7c6a6f-73af-4cdc-af2e-8e4f6b0bd267",
   "metadata": {},
   "outputs": [],
   "source": [
    "C = Calculator()"
   ]
  },
  {
   "cell_type": "markdown",
   "id": "8ce5abcd-faf8-4bbc-b825-1bc884c78339",
   "metadata": {},
   "source": [
    "## Load the Run Data"
   ]
  },
  {
   "cell_type": "code",
   "execution_count": 11,
   "id": "df11fd9d-c07b-4ca1-8a46-c1e5dba50f47",
   "metadata": {},
   "outputs": [],
   "source": [
    "from databroker import catalog\n",
    "\n",
    "db = catalog[\"xpdd\"]"
   ]
  },
  {
   "cell_type": "code",
   "execution_count": 12,
   "id": "e9054076-326a-4c34-af7f-1067cd11dec7",
   "metadata": {},
   "outputs": [],
   "source": [
    "UID = 'cb427382-2015-41b8-8d6d-aad41d84488d'\n",
    "run = db[UID]\n",
    "C.metadata = dict(run.metadata[\"start\"])"
   ]
  },
  {
   "cell_type": "code",
   "execution_count": 13,
   "id": "267bf3d3-91d9-430f-9cfb-00815219c0bc",
   "metadata": {},
   "outputs": [
    {
     "data": {
      "text/html": [
       "<div><svg style=\"position: absolute; width: 0; height: 0; overflow: hidden\">\n",
       "<defs>\n",
       "<symbol id=\"icon-database\" viewBox=\"0 0 32 32\">\n",
       "<path d=\"M16 0c-8.837 0-16 2.239-16 5v4c0 2.761 7.163 5 16 5s16-2.239 16-5v-4c0-2.761-7.163-5-16-5z\"></path>\n",
       "<path d=\"M16 17c-8.837 0-16-2.239-16-5v6c0 2.761 7.163 5 16 5s16-2.239 16-5v-6c0 2.761-7.163 5-16 5z\"></path>\n",
       "<path d=\"M16 26c-8.837 0-16-2.239-16-5v6c0 2.761 7.163 5 16 5s16-2.239 16-5v-6c0 2.761-7.163 5-16 5z\"></path>\n",
       "</symbol>\n",
       "<symbol id=\"icon-file-text2\" viewBox=\"0 0 32 32\">\n",
       "<path d=\"M28.681 7.159c-0.694-0.947-1.662-2.053-2.724-3.116s-2.169-2.030-3.116-2.724c-1.612-1.182-2.393-1.319-2.841-1.319h-15.5c-1.378 0-2.5 1.121-2.5 2.5v27c0 1.378 1.122 2.5 2.5 2.5h23c1.378 0 2.5-1.122 2.5-2.5v-19.5c0-0.448-0.137-1.23-1.319-2.841zM24.543 5.457c0.959 0.959 1.712 1.825 2.268 2.543h-4.811v-4.811c0.718 0.556 1.584 1.309 2.543 2.268zM28 29.5c0 0.271-0.229 0.5-0.5 0.5h-23c-0.271 0-0.5-0.229-0.5-0.5v-27c0-0.271 0.229-0.5 0.5-0.5 0 0 15.499-0 15.5 0v7c0 0.552 0.448 1 1 1h7v19.5z\"></path>\n",
       "<path d=\"M23 26h-14c-0.552 0-1-0.448-1-1s0.448-1 1-1h14c0.552 0 1 0.448 1 1s-0.448 1-1 1z\"></path>\n",
       "<path d=\"M23 22h-14c-0.552 0-1-0.448-1-1s0.448-1 1-1h14c0.552 0 1 0.448 1 1s-0.448 1-1 1z\"></path>\n",
       "<path d=\"M23 18h-14c-0.552 0-1-0.448-1-1s0.448-1 1-1h14c0.552 0 1 0.448 1 1s-0.448 1-1 1z\"></path>\n",
       "</symbol>\n",
       "</defs>\n",
       "</svg>\n",
       "<style>/* CSS stylesheet for displaying xarray objects in jupyterlab.\n",
       " *\n",
       " */\n",
       "\n",
       ":root {\n",
       "  --xr-font-color0: var(--jp-content-font-color0, rgba(0, 0, 0, 1));\n",
       "  --xr-font-color2: var(--jp-content-font-color2, rgba(0, 0, 0, 0.54));\n",
       "  --xr-font-color3: var(--jp-content-font-color3, rgba(0, 0, 0, 0.38));\n",
       "  --xr-border-color: var(--jp-border-color2, #e0e0e0);\n",
       "  --xr-disabled-color: var(--jp-layout-color3, #bdbdbd);\n",
       "  --xr-background-color: var(--jp-layout-color0, white);\n",
       "  --xr-background-color-row-even: var(--jp-layout-color1, white);\n",
       "  --xr-background-color-row-odd: var(--jp-layout-color2, #eeeeee);\n",
       "}\n",
       "\n",
       "html[theme=dark],\n",
       "body.vscode-dark {\n",
       "  --xr-font-color0: rgba(255, 255, 255, 1);\n",
       "  --xr-font-color2: rgba(255, 255, 255, 0.54);\n",
       "  --xr-font-color3: rgba(255, 255, 255, 0.38);\n",
       "  --xr-border-color: #1F1F1F;\n",
       "  --xr-disabled-color: #515151;\n",
       "  --xr-background-color: #111111;\n",
       "  --xr-background-color-row-even: #111111;\n",
       "  --xr-background-color-row-odd: #313131;\n",
       "}\n",
       "\n",
       ".xr-wrap {\n",
       "  display: block;\n",
       "  min-width: 300px;\n",
       "  max-width: 700px;\n",
       "}\n",
       "\n",
       ".xr-text-repr-fallback {\n",
       "  /* fallback to plain text repr when CSS is not injected (untrusted notebook) */\n",
       "  display: none;\n",
       "}\n",
       "\n",
       ".xr-header {\n",
       "  padding-top: 6px;\n",
       "  padding-bottom: 6px;\n",
       "  margin-bottom: 4px;\n",
       "  border-bottom: solid 1px var(--xr-border-color);\n",
       "}\n",
       "\n",
       ".xr-header > div,\n",
       ".xr-header > ul {\n",
       "  display: inline;\n",
       "  margin-top: 0;\n",
       "  margin-bottom: 0;\n",
       "}\n",
       "\n",
       ".xr-obj-type,\n",
       ".xr-array-name {\n",
       "  margin-left: 2px;\n",
       "  margin-right: 10px;\n",
       "}\n",
       "\n",
       ".xr-obj-type {\n",
       "  color: var(--xr-font-color2);\n",
       "}\n",
       "\n",
       ".xr-sections {\n",
       "  padding-left: 0 !important;\n",
       "  display: grid;\n",
       "  grid-template-columns: 150px auto auto 1fr 20px 20px;\n",
       "}\n",
       "\n",
       ".xr-section-item {\n",
       "  display: contents;\n",
       "}\n",
       "\n",
       ".xr-section-item input {\n",
       "  display: none;\n",
       "}\n",
       "\n",
       ".xr-section-item input + label {\n",
       "  color: var(--xr-disabled-color);\n",
       "}\n",
       "\n",
       ".xr-section-item input:enabled + label {\n",
       "  cursor: pointer;\n",
       "  color: var(--xr-font-color2);\n",
       "}\n",
       "\n",
       ".xr-section-item input:enabled + label:hover {\n",
       "  color: var(--xr-font-color0);\n",
       "}\n",
       "\n",
       ".xr-section-summary {\n",
       "  grid-column: 1;\n",
       "  color: var(--xr-font-color2);\n",
       "  font-weight: 500;\n",
       "}\n",
       "\n",
       ".xr-section-summary > span {\n",
       "  display: inline-block;\n",
       "  padding-left: 0.5em;\n",
       "}\n",
       "\n",
       ".xr-section-summary-in:disabled + label {\n",
       "  color: var(--xr-font-color2);\n",
       "}\n",
       "\n",
       ".xr-section-summary-in + label:before {\n",
       "  display: inline-block;\n",
       "  content: '►';\n",
       "  font-size: 11px;\n",
       "  width: 15px;\n",
       "  text-align: center;\n",
       "}\n",
       "\n",
       ".xr-section-summary-in:disabled + label:before {\n",
       "  color: var(--xr-disabled-color);\n",
       "}\n",
       "\n",
       ".xr-section-summary-in:checked + label:before {\n",
       "  content: '▼';\n",
       "}\n",
       "\n",
       ".xr-section-summary-in:checked + label > span {\n",
       "  display: none;\n",
       "}\n",
       "\n",
       ".xr-section-summary,\n",
       ".xr-section-inline-details {\n",
       "  padding-top: 4px;\n",
       "  padding-bottom: 4px;\n",
       "}\n",
       "\n",
       ".xr-section-inline-details {\n",
       "  grid-column: 2 / -1;\n",
       "}\n",
       "\n",
       ".xr-section-details {\n",
       "  display: none;\n",
       "  grid-column: 1 / -1;\n",
       "  margin-bottom: 5px;\n",
       "}\n",
       "\n",
       ".xr-section-summary-in:checked ~ .xr-section-details {\n",
       "  display: contents;\n",
       "}\n",
       "\n",
       ".xr-array-wrap {\n",
       "  grid-column: 1 / -1;\n",
       "  display: grid;\n",
       "  grid-template-columns: 20px auto;\n",
       "}\n",
       "\n",
       ".xr-array-wrap > label {\n",
       "  grid-column: 1;\n",
       "  vertical-align: top;\n",
       "}\n",
       "\n",
       ".xr-preview {\n",
       "  color: var(--xr-font-color3);\n",
       "}\n",
       "\n",
       ".xr-array-preview,\n",
       ".xr-array-data {\n",
       "  padding: 0 5px !important;\n",
       "  grid-column: 2;\n",
       "}\n",
       "\n",
       ".xr-array-data,\n",
       ".xr-array-in:checked ~ .xr-array-preview {\n",
       "  display: none;\n",
       "}\n",
       "\n",
       ".xr-array-in:checked ~ .xr-array-data,\n",
       ".xr-array-preview {\n",
       "  display: inline-block;\n",
       "}\n",
       "\n",
       ".xr-dim-list {\n",
       "  display: inline-block !important;\n",
       "  list-style: none;\n",
       "  padding: 0 !important;\n",
       "  margin: 0;\n",
       "}\n",
       "\n",
       ".xr-dim-list li {\n",
       "  display: inline-block;\n",
       "  padding: 0;\n",
       "  margin: 0;\n",
       "}\n",
       "\n",
       ".xr-dim-list:before {\n",
       "  content: '(';\n",
       "}\n",
       "\n",
       ".xr-dim-list:after {\n",
       "  content: ')';\n",
       "}\n",
       "\n",
       ".xr-dim-list li:not(:last-child):after {\n",
       "  content: ',';\n",
       "  padding-right: 5px;\n",
       "}\n",
       "\n",
       ".xr-has-index {\n",
       "  font-weight: bold;\n",
       "}\n",
       "\n",
       ".xr-var-list,\n",
       ".xr-var-item {\n",
       "  display: contents;\n",
       "}\n",
       "\n",
       ".xr-var-item > div,\n",
       ".xr-var-item label,\n",
       ".xr-var-item > .xr-var-name span {\n",
       "  background-color: var(--xr-background-color-row-even);\n",
       "  margin-bottom: 0;\n",
       "}\n",
       "\n",
       ".xr-var-item > .xr-var-name:hover span {\n",
       "  padding-right: 5px;\n",
       "}\n",
       "\n",
       ".xr-var-list > li:nth-child(odd) > div,\n",
       ".xr-var-list > li:nth-child(odd) > label,\n",
       ".xr-var-list > li:nth-child(odd) > .xr-var-name span {\n",
       "  background-color: var(--xr-background-color-row-odd);\n",
       "}\n",
       "\n",
       ".xr-var-name {\n",
       "  grid-column: 1;\n",
       "}\n",
       "\n",
       ".xr-var-dims {\n",
       "  grid-column: 2;\n",
       "}\n",
       "\n",
       ".xr-var-dtype {\n",
       "  grid-column: 3;\n",
       "  text-align: right;\n",
       "  color: var(--xr-font-color2);\n",
       "}\n",
       "\n",
       ".xr-var-preview {\n",
       "  grid-column: 4;\n",
       "}\n",
       "\n",
       ".xr-var-name,\n",
       ".xr-var-dims,\n",
       ".xr-var-dtype,\n",
       ".xr-preview,\n",
       ".xr-attrs dt {\n",
       "  white-space: nowrap;\n",
       "  overflow: hidden;\n",
       "  text-overflow: ellipsis;\n",
       "  padding-right: 10px;\n",
       "}\n",
       "\n",
       ".xr-var-name:hover,\n",
       ".xr-var-dims:hover,\n",
       ".xr-var-dtype:hover,\n",
       ".xr-attrs dt:hover {\n",
       "  overflow: visible;\n",
       "  width: auto;\n",
       "  z-index: 1;\n",
       "}\n",
       "\n",
       ".xr-var-attrs,\n",
       ".xr-var-data {\n",
       "  display: none;\n",
       "  background-color: var(--xr-background-color) !important;\n",
       "  padding-bottom: 5px !important;\n",
       "}\n",
       "\n",
       ".xr-var-attrs-in:checked ~ .xr-var-attrs,\n",
       ".xr-var-data-in:checked ~ .xr-var-data {\n",
       "  display: block;\n",
       "}\n",
       "\n",
       ".xr-var-data > table {\n",
       "  float: right;\n",
       "}\n",
       "\n",
       ".xr-var-name span,\n",
       ".xr-var-data,\n",
       ".xr-attrs {\n",
       "  padding-left: 25px !important;\n",
       "}\n",
       "\n",
       ".xr-attrs,\n",
       ".xr-var-attrs,\n",
       ".xr-var-data {\n",
       "  grid-column: 1 / -1;\n",
       "}\n",
       "\n",
       "dl.xr-attrs {\n",
       "  padding: 0;\n",
       "  margin: 0;\n",
       "  display: grid;\n",
       "  grid-template-columns: 125px auto;\n",
       "}\n",
       "\n",
       ".xr-attrs dt,\n",
       ".xr-attrs dd {\n",
       "  padding: 0;\n",
       "  margin: 0;\n",
       "  float: left;\n",
       "  padding-right: 10px;\n",
       "  width: auto;\n",
       "}\n",
       "\n",
       ".xr-attrs dt {\n",
       "  font-weight: normal;\n",
       "  grid-column: 1;\n",
       "}\n",
       "\n",
       ".xr-attrs dt:hover span {\n",
       "  display: inline-block;\n",
       "  background: var(--xr-background-color);\n",
       "  padding-right: 10px;\n",
       "}\n",
       "\n",
       ".xr-attrs dd {\n",
       "  grid-column: 2;\n",
       "  white-space: pre-wrap;\n",
       "  word-break: break-all;\n",
       "}\n",
       "\n",
       ".xr-icon-database,\n",
       ".xr-icon-file-text2 {\n",
       "  display: inline-block;\n",
       "  vertical-align: middle;\n",
       "  width: 1em;\n",
       "  height: 1.5em !important;\n",
       "  stroke-width: 0;\n",
       "  stroke: currentColor;\n",
       "  fill: currentColor;\n",
       "}\n",
       "</style><pre class='xr-text-repr-fallback'>&lt;xarray.DataArray &#x27;dexela_image&#x27; (time: 3973, dim_0: 1, dim_1: 3888, dim_2: 3072)&gt;\n",
       "dask.array&lt;stack, shape=(3973, 1, 3888, 3072), dtype=float64, chunksize=(1, 1, 3888, 3072), chunktype=numpy.ndarray&gt;\n",
       "Coordinates:\n",
       "  * time     (time) float64 1.627e+09 1.627e+09 ... 1.627e+09 1.627e+09\n",
       "Dimensions without coordinates: dim_0, dim_1, dim_2\n",
       "Attributes:\n",
       "    object:   dexela</pre><div class='xr-wrap' hidden><div class='xr-header'><div class='xr-obj-type'>xarray.DataArray</div><div class='xr-array-name'>'dexela_image'</div><ul class='xr-dim-list'><li><span class='xr-has-index'>time</span>: 3973</li><li><span>dim_0</span>: 1</li><li><span>dim_1</span>: 3888</li><li><span>dim_2</span>: 3072</li></ul></div><ul class='xr-sections'><li class='xr-section-item'><div class='xr-array-wrap'><input id='section-705ee8d5-2bf8-450d-853d-ecf2598c0908' class='xr-array-in' type='checkbox' checked><label for='section-705ee8d5-2bf8-450d-853d-ecf2598c0908' title='Show/hide data repr'><svg class='icon xr-icon-database'><use xlink:href='#icon-database'></use></svg></label><div class='xr-array-preview xr-preview'><span>dask.array&lt;chunksize=(1, 1, 3888, 3072), meta=np.ndarray&gt;</span></div><div class='xr-array-data'><table>\n",
       "<tr>\n",
       "<td>\n",
       "<table>\n",
       "  <thead>\n",
       "    <tr><td> </td><th> Array </th><th> Chunk </th></tr>\n",
       "  </thead>\n",
       "  <tbody>\n",
       "    <tr><th> Bytes </th><td> 353.55 GiB </td> <td> 91.12 MiB </td></tr>\n",
       "    <tr><th> Shape </th><td> (3973, 1, 3888, 3072) </td> <td> (1, 1, 3888, 3072) </td></tr>\n",
       "    <tr><th> Count </th><td> 11919 Tasks </td><td> 3973 Chunks </td></tr>\n",
       "    <tr><th> Type </th><td> float64 </td><td> numpy.ndarray </td></tr>\n",
       "  </tbody>\n",
       "</table>\n",
       "</td>\n",
       "<td>\n",
       "<svg width=\"537\" height=\"182\" style=\"stroke:rgb(0,0,0);stroke-width:1\" >\n",
       "\n",
       "  <!-- Horizontal lines -->\n",
       "  <line x1=\"0\" y1=\"0\" x2=\"120\" y2=\"0\" style=\"stroke-width:2\" />\n",
       "  <line x1=\"0\" y1=\"25\" x2=\"120\" y2=\"25\" style=\"stroke-width:2\" />\n",
       "\n",
       "  <!-- Vertical lines -->\n",
       "  <line x1=\"0\" y1=\"0\" x2=\"0\" y2=\"25\" style=\"stroke-width:2\" />\n",
       "  <line x1=\"3\" y1=\"0\" x2=\"3\" y2=\"25\" />\n",
       "  <line x1=\"7\" y1=\"0\" x2=\"7\" y2=\"25\" />\n",
       "  <line x1=\"11\" y1=\"0\" x2=\"11\" y2=\"25\" />\n",
       "  <line x1=\"14\" y1=\"0\" x2=\"14\" y2=\"25\" />\n",
       "  <line x1=\"18\" y1=\"0\" x2=\"18\" y2=\"25\" />\n",
       "  <line x1=\"22\" y1=\"0\" x2=\"22\" y2=\"25\" />\n",
       "  <line x1=\"26\" y1=\"0\" x2=\"26\" y2=\"25\" />\n",
       "  <line x1=\"29\" y1=\"0\" x2=\"29\" y2=\"25\" />\n",
       "  <line x1=\"33\" y1=\"0\" x2=\"33\" y2=\"25\" />\n",
       "  <line x1=\"37\" y1=\"0\" x2=\"37\" y2=\"25\" />\n",
       "  <line x1=\"41\" y1=\"0\" x2=\"41\" y2=\"25\" />\n",
       "  <line x1=\"44\" y1=\"0\" x2=\"44\" y2=\"25\" />\n",
       "  <line x1=\"48\" y1=\"0\" x2=\"48\" y2=\"25\" />\n",
       "  <line x1=\"52\" y1=\"0\" x2=\"52\" y2=\"25\" />\n",
       "  <line x1=\"56\" y1=\"0\" x2=\"56\" y2=\"25\" />\n",
       "  <line x1=\"59\" y1=\"0\" x2=\"59\" y2=\"25\" />\n",
       "  <line x1=\"63\" y1=\"0\" x2=\"63\" y2=\"25\" />\n",
       "  <line x1=\"67\" y1=\"0\" x2=\"67\" y2=\"25\" />\n",
       "  <line x1=\"71\" y1=\"0\" x2=\"71\" y2=\"25\" />\n",
       "  <line x1=\"74\" y1=\"0\" x2=\"74\" y2=\"25\" />\n",
       "  <line x1=\"78\" y1=\"0\" x2=\"78\" y2=\"25\" />\n",
       "  <line x1=\"82\" y1=\"0\" x2=\"82\" y2=\"25\" />\n",
       "  <line x1=\"86\" y1=\"0\" x2=\"86\" y2=\"25\" />\n",
       "  <line x1=\"89\" y1=\"0\" x2=\"89\" y2=\"25\" />\n",
       "  <line x1=\"93\" y1=\"0\" x2=\"93\" y2=\"25\" />\n",
       "  <line x1=\"97\" y1=\"0\" x2=\"97\" y2=\"25\" />\n",
       "  <line x1=\"101\" y1=\"0\" x2=\"101\" y2=\"25\" />\n",
       "  <line x1=\"104\" y1=\"0\" x2=\"104\" y2=\"25\" />\n",
       "  <line x1=\"108\" y1=\"0\" x2=\"108\" y2=\"25\" />\n",
       "  <line x1=\"112\" y1=\"0\" x2=\"112\" y2=\"25\" />\n",
       "  <line x1=\"116\" y1=\"0\" x2=\"116\" y2=\"25\" />\n",
       "  <line x1=\"120\" y1=\"0\" x2=\"120\" y2=\"25\" style=\"stroke-width:2\" />\n",
       "\n",
       "  <!-- Colored Rectangle -->\n",
       "  <polygon points=\"0.0,0.0 120.0,0.0 120.0,25.412616514582485 0.0,25.412616514582485\" style=\"fill:#8B4903A0;stroke-width:0\"/>\n",
       "\n",
       "  <!-- Text -->\n",
       "  <text x=\"60.000000\" y=\"45.412617\" font-size=\"1.0rem\" font-weight=\"100\" text-anchor=\"middle\" >3973</text>\n",
       "  <text x=\"140.000000\" y=\"12.706308\" font-size=\"1.0rem\" font-weight=\"100\" text-anchor=\"middle\" transform=\"rotate(0,140.000000,12.706308)\">1</text>\n",
       "\n",
       "\n",
       "  <!-- Horizontal lines -->\n",
       "  <line x1=\"190\" y1=\"0\" x2=\"204\" y2=\"14\" style=\"stroke-width:2\" />\n",
       "  <line x1=\"190\" y1=\"117\" x2=\"204\" y2=\"132\" style=\"stroke-width:2\" />\n",
       "\n",
       "  <!-- Vertical lines -->\n",
       "  <line x1=\"190\" y1=\"0\" x2=\"190\" y2=\"117\" style=\"stroke-width:2\" />\n",
       "  <line x1=\"204\" y1=\"14\" x2=\"204\" y2=\"132\" style=\"stroke-width:2\" />\n",
       "\n",
       "  <!-- Colored Rectangle -->\n",
       "  <polygon points=\"190.0,0.0 204.9485979497544,14.948597949754403 204.9485979497544,132.38126847580526 190.0,117.43267052605084\" style=\"fill:#ECB172A0;stroke-width:0\"/>\n",
       "\n",
       "  <!-- Horizontal lines -->\n",
       "  <line x1=\"190\" y1=\"0\" x2=\"282\" y2=\"0\" style=\"stroke-width:2\" />\n",
       "  <line x1=\"204\" y1=\"14\" x2=\"297\" y2=\"14\" style=\"stroke-width:2\" />\n",
       "\n",
       "  <!-- Vertical lines -->\n",
       "  <line x1=\"190\" y1=\"0\" x2=\"204\" y2=\"14\" style=\"stroke-width:2\" />\n",
       "  <line x1=\"282\" y1=\"0\" x2=\"297\" y2=\"14\" style=\"stroke-width:2\" />\n",
       "\n",
       "  <!-- Colored Rectangle -->\n",
       "  <polygon points=\"190.0,0.0 282.78630757613894,0.0 297.73490552589334,14.948597949754403 204.9485979497544,14.948597949754403\" style=\"fill:#ECB172A0;stroke-width:0\"/>\n",
       "\n",
       "  <!-- Horizontal lines -->\n",
       "  <line x1=\"204\" y1=\"14\" x2=\"297\" y2=\"14\" style=\"stroke-width:2\" />\n",
       "  <line x1=\"204\" y1=\"132\" x2=\"297\" y2=\"132\" style=\"stroke-width:2\" />\n",
       "\n",
       "  <!-- Vertical lines -->\n",
       "  <line x1=\"204\" y1=\"14\" x2=\"204\" y2=\"132\" style=\"stroke-width:2\" />\n",
       "  <line x1=\"297\" y1=\"14\" x2=\"297\" y2=\"132\" style=\"stroke-width:2\" />\n",
       "\n",
       "  <!-- Colored Rectangle -->\n",
       "  <polygon points=\"204.9485979497544,14.948597949754403 297.73490552589334,14.948597949754403 297.73490552589334,132.38126847580526 204.9485979497544,132.38126847580526\" style=\"fill:#ECB172A0;stroke-width:0\"/>\n",
       "\n",
       "  <!-- Text -->\n",
       "  <text x=\"251.341752\" y=\"152.381268\" font-size=\"1.0rem\" font-weight=\"100\" text-anchor=\"middle\" >3072</text>\n",
       "  <text x=\"317.734906\" y=\"73.664933\" font-size=\"1.0rem\" font-weight=\"100\" text-anchor=\"middle\" transform=\"rotate(-90,317.734906,73.664933)\">3888</text>\n",
       "  <text x=\"187.474299\" y=\"144.906970\" font-size=\"1.0rem\" font-weight=\"100\" text-anchor=\"middle\" transform=\"rotate(45,187.474299,144.906970)\">1</text>\n",
       "</svg>\n",
       "</td>\n",
       "</tr>\n",
       "</table></div></div></li><li class='xr-section-item'><input id='section-b18179e6-a082-4a07-91a7-f4b2a27b6eff' class='xr-section-summary-in' type='checkbox'  checked><label for='section-b18179e6-a082-4a07-91a7-f4b2a27b6eff' class='xr-section-summary' >Coordinates: <span>(1)</span></label><div class='xr-section-inline-details'></div><div class='xr-section-details'><ul class='xr-var-list'><li class='xr-var-item'><div class='xr-var-name'><span class='xr-has-index'>time</span></div><div class='xr-var-dims'>(time)</div><div class='xr-var-dtype'>float64</div><div class='xr-var-preview xr-preview'>1.627e+09 1.627e+09 ... 1.627e+09</div><input id='attrs-01d3012a-3832-4062-96c1-f30de528a15b' class='xr-var-attrs-in' type='checkbox' disabled><label for='attrs-01d3012a-3832-4062-96c1-f30de528a15b' title='Show/Hide attributes'><svg class='icon xr-icon-file-text2'><use xlink:href='#icon-file-text2'></use></svg></label><input id='data-3a15b4c2-d08f-4789-b475-f6469368ca2d' class='xr-var-data-in' type='checkbox'><label for='data-3a15b4c2-d08f-4789-b475-f6469368ca2d' title='Show/Hide data repr'><svg class='icon xr-icon-database'><use xlink:href='#icon-database'></use></svg></label><div class='xr-var-attrs'><dl class='xr-attrs'></dl></div><div class='xr-var-data'><pre>array([1.627438e+09, 1.627438e+09, 1.627438e+09, ..., 1.627448e+09,\n",
       "       1.627448e+09, 1.627448e+09])</pre></div></li></ul></div></li><li class='xr-section-item'><input id='section-dd470326-57cf-4eba-9a05-8eedc3ce13ed' class='xr-section-summary-in' type='checkbox'  checked><label for='section-dd470326-57cf-4eba-9a05-8eedc3ce13ed' class='xr-section-summary' >Attributes: <span>(1)</span></label><div class='xr-section-inline-details'></div><div class='xr-section-details'><dl class='xr-attrs'><dt><span>object :</span></dt><dd>dexela</dd></dl></div></li></ul></div></div>"
      ],
      "text/plain": [
       "<xarray.DataArray 'dexela_image' (time: 3973, dim_0: 1, dim_1: 3888, dim_2: 3072)>\n",
       "dask.array<stack, shape=(3973, 1, 3888, 3072), dtype=float64, chunksize=(1, 1, 3888, 3072), chunktype=numpy.ndarray>\n",
       "Coordinates:\n",
       "  * time     (time) float64 1.627e+09 1.627e+09 ... 1.627e+09 1.627e+09\n",
       "Dimensions without coordinates: dim_0, dim_1, dim_2\n",
       "Attributes:\n",
       "    object:   dexela"
      ]
     },
     "execution_count": 13,
     "metadata": {},
     "output_type": "execute_result"
    }
   ],
   "source": [
    "data = run.primary.to_dask()\n",
    "C.frames_arr = data[\"dexela_image\"]\n",
    "C.frames_arr"
   ]
  },
  {
   "cell_type": "code",
   "execution_count": 16,
   "id": "c5b74e48-a38f-424a-af4a-c69a836c89e6",
   "metadata": {},
   "outputs": [],
   "source": [
    "C.metadata[\"shape\"] = C.metadata[\"shape\"][1:]\n",
    "C.metadata[\"extents\"] = C.metadata[\"extents\"][1:]"
   ]
  },
  {
   "cell_type": "code",
   "execution_count": 17,
   "id": "bd8828b1-57e9-451b-93a0-f52a5fa4004e",
   "metadata": {},
   "outputs": [],
   "source": [
    "# show the total intensity distribution\n",
    "total_i = data[\"dexela_stats1_total\"].values.reshape(C.metadata[\"shape\"])\n",
    "fig, ax = plt.subplots()\n",
    "xr.DataArray(total_i).plot.imshow(ax=ax)\n",
    "ax.invert_yaxis()\n",
    "plt.show()"
   ]
  },
  {
   "cell_type": "markdown",
   "id": "30a4f7fb-c1d9-4afb-ba44-6b70c3af36af",
   "metadata": {},
   "source": [
    "## Load the calibration data"
   ]
  },
  {
   "cell_type": "code",
   "execution_count": 18,
   "id": "d84cdd5f-c8aa-4201-9176-01ed360b648a",
   "metadata": {},
   "outputs": [],
   "source": [
    "PONI_FILE = \"/nsls2/data/xpd/legacy/processed/from_mehmet/CeO2_0.25x0.25_beam.poni\"\n",
    "C.ai = pyFAI.load(PONI_FILE) if PONI_FILE else pyFAI.azimuthalIntegrator.AzimuthalIntegrator(dist=200, wavelength=0.186, detector=\"perkin\")"
   ]
  },
  {
   "cell_type": "markdown",
   "id": "341ab1df-2743-4f9d-9b77-1fc8addc33de",
   "metadata": {},
   "source": [
    "## Choose the Max image"
   ]
  },
  {
   "cell_type": "code",
   "execution_count": 7,
   "id": "9404ac4d-223a-4f14-8ca2-6b4cc3fcc558",
   "metadata": {},
   "outputs": [
    {
     "data": {
      "application/vnd.jupyter.widget-view+json": {
       "model_id": "25506a4e947f45f09adaf233a0c73133",
       "version_major": 2,
       "version_minor": 0
      },
      "text/plain": [
       "interactive(children=(Text(value='/nsls2/data/xpd/legacy/processed/xpdUser/tiff_base/CG-0032_cb427382-2015-41b…"
      ]
     },
     "metadata": {},
     "output_type": "display_data"
    },
    {
     "data": {
      "text/plain": [
       "<function __main__.show_npy_array(template: str, index: int, **kwargs)>"
      ]
     },
     "execution_count": 7,
     "metadata": {},
     "output_type": "execute_result"
    }
   ],
   "source": [
    "interact_manual(\n",
    "    show_npy_array, \n",
    "    template=\"/nsls2/data/xpd/legacy/processed/xpdUser/tiff_base/CG-0032_cb427382-2015-41b8-8d6d-aad41d84488d/max/CG-0032_{}_max.npy\",\n",
    "    index=(1, 137 * 29)\n",
    ")"
   ]
  },
  {
   "cell_type": "code",
   "execution_count": 22,
   "id": "da06bdad-d8c4-421c-b700-49f7c0bb2982",
   "metadata": {},
   "outputs": [],
   "source": [
    "INDEX = 3732\n",
    "sample_name = C.metadata[\"sample_name\"]\n",
    "uid = C.metadata[\"uid\"]\n",
    "light_file = \"/nsls2/data/xpd/legacy/processed/xpdUser/tiff_base/{}_{}/max/{}_{}_max.npy\".format(sample_name, uid, sample_name, INDEX)\n",
    "dark_file = \"/nsls2/data/xpd/legacy/processed/xpdUser/tiff_base/{}_{}/min/{}_{}_min.npy\".format(sample_name, uid, sample_name, INDEX)\n",
    "C.light = np.load(light_file)\n",
    "C.dark = np.load(dark_file)"
   ]
  },
  {
   "cell_type": "raw",
   "id": "a1c5e189-a53e-477f-8fa0-48eac5d5d31b",
   "metadata": {},
   "source": [
    "C.calc_dark_and_light_from_frames_arr()"
   ]
  },
  {
   "cell_type": "markdown",
   "id": "1cd38f66-dd99-4c4b-b245-f03ed780e3b8",
   "metadata": {},
   "source": [
    "## Subtract the dark from the light"
   ]
  },
  {
   "cell_type": "code",
   "execution_count": 23,
   "id": "8fc40c45-20f3-442f-8473-31fba7057aa4",
   "metadata": {},
   "outputs": [],
   "source": [
    "C.light -= C.dark"
   ]
  },
  {
   "cell_type": "markdown",
   "id": "b9d09867-7918-408e-a10a-239715deab12",
   "metadata": {},
   "source": [
    "## Locate the peaks and create windows"
   ]
  },
  {
   "cell_type": "code",
   "execution_count": 8,
   "id": "a1216e8d-266f-4f89-b8d5-e9269031fca7",
   "metadata": {},
   "outputs": [],
   "source": [
    "# tp.locate?"
   ]
  },
  {
   "cell_type": "code",
   "execution_count": 24,
   "id": "d7f7452d-ccfd-4a33-8c86-7c3dfe7be068",
   "metadata": {},
   "outputs": [],
   "source": [
    "C.calc_peaks_from_light_frame(25, separation=10, threshold=30, topn=80)"
   ]
  },
  {
   "cell_type": "code",
   "execution_count": 27,
   "id": "480f1f7b-7804-4d27-a133-57c05838b7a5",
   "metadata": {},
   "outputs": [],
   "source": [
    "C.calc_windows_from_peaks(num=80, width=50)\n",
    "C.show_windows(size=10, vmax=400)\n",
    "plt.show()"
   ]
  },
  {
   "cell_type": "markdown",
   "id": "4455ba0c-346d-46e9-906f-3ef5a8791612",
   "metadata": {},
   "source": [
    "## Run throught the images to calculate the intensity in the windows"
   ]
  },
  {
   "cell_type": "code",
   "execution_count": 28,
   "id": "11074726-6d4f-47cd-bd42-79eeff849de3",
   "metadata": {},
   "outputs": [
    {
     "name": "stdout",
     "output_type": "stream",
     "text": [
      "Process frame 3973 / 3973.\r"
     ]
    }
   ],
   "source": [
    "C.calc_intensity_in_windows()"
   ]
  },
  {
   "cell_type": "code",
   "execution_count": 29,
   "id": "e228cd47-a263-4c6d-9410-1fb64df52cb0",
   "metadata": {},
   "outputs": [],
   "source": [
    "C.reshape_intensity()\n",
    "C.calc_coords()\n",
    "C.assign_q_values()"
   ]
  },
  {
   "cell_type": "code",
   "execution_count": 32,
   "id": "7cb4b107-007a-4426-99a7-192fb43b5f68",
   "metadata": {},
   "outputs": [],
   "source": [
    "import matplotlib as mpl"
   ]
  },
  {
   "cell_type": "code",
   "execution_count": 38,
   "id": "986b6bee-20cb-43df-a1c4-c341b37685fd",
   "metadata": {},
   "outputs": [],
   "source": [
    "facet = C.show_intensity(col_wrap=20, sharey=False, norm=mpl.colors.TwoSlopeNorm(500))\n",
    "axes = facet.axes.flatten()\n",
    "for i in range(C.intensity.shape[0]):\n",
    "    d = 2 * np.pi / C.windows[\"Q\"]\n",
    "    axes[i].set_title(\"d = {:.3f} nm\".format(d.iloc[i]))\n",
    "    axes[i].invert_yaxis()\n",
    "    axes[i].set_aspect(\"equal\")\n",
    "plt.show()"
   ]
  },
  {
   "cell_type": "markdown",
   "id": "cc4d4863-b1e3-455a-b9d2-9680e1b797ba",
   "metadata": {},
   "source": [
    "## Save the result"
   ]
  },
  {
   "cell_type": "code",
   "execution_count": 39,
   "id": "e212f0a5-84b1-42ad-b2cb-1302f0176988",
   "metadata": {},
   "outputs": [],
   "source": [
    "BASE = \"/nsls2/data/xpd/legacy/processed/xpdUser/tiff_base/\"\n",
    "FILENAME = pathlib.Path(BASE).joinpath(\"{}_{}.nc\".format(C.metadata[\"sample_name\"], C.metadata[\"uid\"]))\n",
    "C.to_dataset().to_netcdf(FILENAME)"
   ]
  },
  {
   "cell_type": "code",
   "execution_count": null,
   "id": "ab03d67c-7bcf-4823-80e8-0bde3c7cbb10",
   "metadata": {},
   "outputs": [],
   "source": []
  }
 ],
 "metadata": {
  "kernelspec": {
   "display_name": "Python 3 (ipykernel)",
   "language": "python",
   "name": "python3"
  },
  "language_info": {
   "codemirror_mode": {
    "name": "ipython",
    "version": 3
   },
   "file_extension": ".py",
   "mimetype": "text/x-python",
   "name": "python",
   "nbconvert_exporter": "python",
   "pygments_lexer": "ipython3",
   "version": "3.9.6"
  }
 },
 "nbformat": 4,
 "nbformat_minor": 5
}
