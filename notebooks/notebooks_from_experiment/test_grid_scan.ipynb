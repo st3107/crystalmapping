{
 "cells": [
  {
   "cell_type": "code",
   "execution_count": 1,
   "id": "valuable-roommate",
   "metadata": {},
   "outputs": [],
   "source": [
    "%matplotlib qt"
   ]
  },
  {
   "cell_type": "code",
   "execution_count": 2,
   "id": "christian-sensitivity",
   "metadata": {},
   "outputs": [
    {
     "name": "stderr",
     "output_type": "stream",
     "text": [
      "environment variable BLUESKY_IPYTHON_LOG_FILE is not set, using default file path '/home/xf28id2/.cache/bluesky/log/bluesky_ipython.log'\n"
     ]
    },
    {
     "name": "stdout",
     "output_type": "stream",
     "text": [
      "Activating auto-logging. Current session state plus future input saved.\n",
      "Filename       : /home/xf28id2/.cache/bluesky/log/bluesky_ipython.log\n",
      "Mode           : append\n",
      "Output logging : True\n",
      "Raw input log  : False\n",
      "Timestamping   : True\n",
      "State          : active\n",
      "Exception reporting mode: Minimal\n"
     ]
    }
   ],
   "source": [
    "%run -i ~/Documents/profile_collection/startup/00-startup.py"
   ]
  },
  {
   "cell_type": "code",
   "execution_count": 3,
   "id": "equal-stanley",
   "metadata": {},
   "outputs": [],
   "source": [
    "%run -i ~/Documents/profile_collection/startup/20-motors.py\n",
    "%run -i ~/Documents/profile_collection/startup/21-signals.py\n",
    "%run -i ~/Documents/profile_collection/startup/30-detectors_and_cameras.py\n",
    "%run -i ~/Documents/profile_collection/startup/90-functions.py"
   ]
  },
  {
   "cell_type": "code",
   "execution_count": 4,
   "id": "allied-values",
   "metadata": {},
   "outputs": [],
   "source": [
    "%run -i ~/Documents/tomology/tomography/plans.py"
   ]
  },
  {
   "cell_type": "code",
   "execution_count": 5,
   "id": "characteristic-playlist",
   "metadata": {},
   "outputs": [],
   "source": [
    "from databroker import catalog\n",
    "raw = catalog['xpdd']"
   ]
  },
  {
   "cell_type": "code",
   "execution_count": 6,
   "id": "attached-blocking",
   "metadata": {},
   "outputs": [
    {
     "data": {
      "text/plain": [
       "2"
      ]
     },
     "execution_count": 6,
     "metadata": {},
     "output_type": "execute_result"
    }
   ],
   "source": [
    "from bluesky.callbacks.zmq import Publisher\n",
    "\n",
    "publisher = Publisher((\"localhost\", 5567), prefix=b'raw')\n",
    "RE.subscribe(publisher)"
   ]
  },
  {
   "cell_type": "code",
   "execution_count": 7,
   "id": "figured-effects",
   "metadata": {},
   "outputs": [],
   "source": [
    "SHUTTER_CLOSE = -47\n",
    "SHUTTER_OPEN = 0"
   ]
  },
  {
   "cell_type": "code",
   "execution_count": 8,
   "id": "handmade-leonard",
   "metadata": {},
   "outputs": [
    {
     "data": {
      "text/plain": [
       "OrderedDict([('mBaseX', {'value': -1.0, 'timestamp': 1627246768.89575}),\n",
       "             ('mBaseX_user_setpoint',\n",
       "              {'value': -1.0, 'timestamp': 1627246768.89575})])"
      ]
     },
     "execution_count": 8,
     "metadata": {},
     "output_type": "execute_result"
    }
   ],
   "source": [
    "mBaseX.read()"
   ]
  },
  {
   "cell_type": "code",
   "execution_count": 9,
   "id": "specified-candy",
   "metadata": {},
   "outputs": [
    {
     "data": {
      "text/plain": [
       "OrderedDict([('mBaseY', {'value': 45.06, 'timestamp': 1627246764.365234}),\n",
       "             ('mBaseY_user_setpoint',\n",
       "              {'value': 45.06, 'timestamp': 1627246764.365234})])"
      ]
     },
     "execution_count": 9,
     "metadata": {},
     "output_type": "execute_result"
    }
   ],
   "source": [
    "mBaseY.read()"
   ]
  },
  {
   "cell_type": "code",
   "execution_count": 10,
   "id": "turkish-portrait",
   "metadata": {},
   "outputs": [],
   "source": [
    "plan = grid_scan_nd(\n",
    "    [dexela_c], \n",
    "    mBaseY, 45.0, 45.06, 3, \n",
    "    mBaseX, -0.94, -1.0, 3, \n",
    "    time_per_point=1.,\n",
    "    time_per_frame=1.,\n",
    "    shutter=FastShutter,\n",
    "    shutter_close=SHUTTER_CLOSE,\n",
    "    shutter_open=SHUTTER_OPEN,\n",
    "    md={\"task\": \"a test\"}\n",
    ")"
   ]
  },
  {
   "cell_type": "code",
   "execution_count": 11,
   "id": "legislative-going",
   "metadata": {},
   "outputs": [
    {
     "name": "stdout",
     "output_type": "stream",
     "text": [
      "\n",
      "\n",
      "Transient Scan ID: 20     Time: 2021-07-25 18:24:37\n",
      "Persistent Unique Scan ID: 'e9663312-e32f-4875-a394-19fc6115bdd2'\n",
      "New stream: 'dark'\n",
      "New stream: 'primary'\n",
      "+-----------+------------+---------------------+\n",
      "|   seq_num |       time | dexela_stats1_total |\n",
      "+-----------+------------+---------------------+\n",
      "|         1 | 18:24:41.0 |          5813532201 |\n",
      "|         2 | 18:24:42.0 |          5814358879 |\n",
      "|         3 | 18:24:43.0 |          5814723790 |\n",
      "|         4 | 18:24:46.0 |          5813491656 |\n",
      "|         5 | 18:24:47.0 |          5813201604 |\n",
      "|         6 | 18:24:48.0 |          5813940231 |\n",
      "|         7 | 18:24:51.0 |          5812786361 |\n",
      "|         8 | 18:24:52.0 |          5812419397 |\n",
      "|         9 | 18:24:53.0 |          5813939405 |\n",
      "+-----------+------------+---------------------+\n",
      "generator grid_scan ['e9663312'] (scan num: 20)\n",
      "\n",
      "\n",
      "\n"
     ]
    },
    {
     "data": {
      "text/plain": [
       "('e9663312-e32f-4875-a394-19fc6115bdd2',)"
      ]
     },
     "execution_count": 11,
     "metadata": {},
     "output_type": "execute_result"
    }
   ],
   "source": [
    "RE(plan)"
   ]
  },
  {
   "cell_type": "code",
   "execution_count": null,
   "id": "occupational-rachel",
   "metadata": {},
   "outputs": [],
   "source": []
  }
 ],
 "metadata": {
  "kernelspec": {
   "display_name": "Python 3",
   "language": "python",
   "name": "python3"
  },
  "language_info": {
   "codemirror_mode": {
    "name": "ipython",
    "version": 3
   },
   "file_extension": ".py",
   "mimetype": "text/x-python",
   "name": "python",
   "nbconvert_exporter": "python",
   "pygments_lexer": "ipython3",
   "version": "3.7.7"
  }
 },
 "nbformat": 4,
 "nbformat_minor": 5
}
