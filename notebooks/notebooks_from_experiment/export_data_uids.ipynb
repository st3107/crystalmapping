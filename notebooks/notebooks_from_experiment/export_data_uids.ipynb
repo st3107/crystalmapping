{
 "cells": [
  {
   "cell_type": "code",
   "execution_count": 12,
   "id": "e34e3b19-b351-4310-ac04-fa9701c4fa37",
   "metadata": {},
   "outputs": [],
   "source": [
    "from pathlib import Path"
   ]
  },
  {
   "cell_type": "markdown",
   "id": "2250e33e-a013-4da6-8905-254de0cd495b",
   "metadata": {},
   "source": [
    "## Find the uids before the last several scans start"
   ]
  },
  {
   "cell_type": "code",
   "execution_count": 1,
   "id": "8dbfc068-ce99-430c-b097-3b78f66723de",
   "metadata": {},
   "outputs": [
    {
     "name": "stderr",
     "output_type": "stream",
     "text": [
      "/home/xf28id2/conda_envs/khalifah_20210725/lib/python3.9/site-packages/pims/image_reader.py:26: RuntimeWarning: PIMS image_reader.py could not find scikit-image. Falling back to matplotlib's imread(), which uses floats instead of integers. This may break your scripts. \n",
      "(To ignore this warning, include the line \"warnings.simplefilter(\"ignore\", RuntimeWarning)\" in your script.)\n",
      "  warnings.warn(RuntimeWarning(ski_preferred))\n"
     ]
    }
   ],
   "source": [
    "from databroker import catalog"
   ]
  },
  {
   "cell_type": "code",
   "execution_count": 2,
   "id": "ec14d892-163a-4832-8ad8-d18e7bb087ea",
   "metadata": {},
   "outputs": [],
   "source": [
    "db = catalog[\"xpdd\"]"
   ]
  },
  {
   "cell_type": "code",
   "execution_count": 4,
   "id": "22cd3e68-b1ee-4661-91a0-b627856c2f0e",
   "metadata": {},
   "outputs": [],
   "source": [
    "results = db.search({\"bt_safn\": 307622})"
   ]
  },
  {
   "cell_type": "code",
   "execution_count": 6,
   "id": "84de9e17-1675-4001-9719-90dc6c732254",
   "metadata": {},
   "outputs": [],
   "source": [
    "uids = [uid for uid in results]"
   ]
  },
  {
   "cell_type": "code",
   "execution_count": 8,
   "id": "9d6b0561-fe8a-4eab-9d4b-583a208bbd88",
   "metadata": {},
   "outputs": [
    {
     "data": {
      "text/plain": [
       "'3fa5bb56-9948-4014-9ba9-62258d5cf024'"
      ]
     },
     "execution_count": 8,
     "metadata": {},
     "output_type": "execute_result"
    }
   ],
   "source": [
    "uids.pop(0)"
   ]
  },
  {
   "cell_type": "code",
   "execution_count": 11,
   "id": "cc7f3054-5bc1-4f47-b7ec-d1a06a9ab005",
   "metadata": {},
   "outputs": [],
   "source": [
    "with Path(\"/nsls2/xf28id2/temp_data_folder/uids_khalifah_307622_part_0.txt\").open(\"w\") as f:\n",
    "    f.write(\"\\n\".join(uids))"
   ]
  },
  {
   "cell_type": "markdown",
   "id": "b4fa227e-0287-4153-8be5-cecf47964720",
   "metadata": {},
   "source": [
    "## Find the uids that has not been record"
   ]
  },
  {
   "cell_type": "code",
   "execution_count": 22,
   "id": "2952c98a-2ed1-4b51-97f5-de2db122b1c1",
   "metadata": {},
   "outputs": [],
   "source": [
    "from databroker import catalog"
   ]
  },
  {
   "cell_type": "code",
   "execution_count": 23,
   "id": "f9a0088a-6771-4a5b-b164-65dfd3369882",
   "metadata": {},
   "outputs": [],
   "source": [
    "db = catalog[\"xpdd\"]"
   ]
  },
  {
   "cell_type": "code",
   "execution_count": 24,
   "id": "60639208-dd3d-44ec-aec8-88ae275a224c",
   "metadata": {},
   "outputs": [],
   "source": [
    "results = db.search({\"bt_safn\": 307622})"
   ]
  },
  {
   "cell_type": "code",
   "execution_count": 25,
   "id": "332b63ae-4c2a-4bc8-bb3c-3dfa008ee823",
   "metadata": {},
   "outputs": [],
   "source": [
    "uids = [uid for uid in results]"
   ]
  },
  {
   "cell_type": "code",
   "execution_count": 26,
   "id": "9e3791fa-5c92-462c-be79-ebf1556dd6ef",
   "metadata": {},
   "outputs": [],
   "source": [
    "with Path(\"/nsls2/xf28id2/temp_data_folder/uids_khalifah_307622_part_0.txt\").open(\"r\") as f:\n",
    "    text = f.read()"
   ]
  },
  {
   "cell_type": "code",
   "execution_count": 27,
   "id": "f5fc15e9-3540-403f-b7fc-b0b435f122f6",
   "metadata": {},
   "outputs": [],
   "source": [
    "old_uids = set(text.split(\"\\n\"))"
   ]
  },
  {
   "cell_type": "code",
   "execution_count": 28,
   "id": "d10c1061-396c-4908-bff4-d10bac5b1777",
   "metadata": {},
   "outputs": [],
   "source": [
    "new_uids = []\n",
    "for uid in uids:\n",
    "    if uid not in old_uids:\n",
    "        new_uids.append(uid)"
   ]
  },
  {
   "cell_type": "code",
   "execution_count": 29,
   "id": "27e8ecf6-38b9-4665-889d-6ad1c14f4b79",
   "metadata": {},
   "outputs": [
    {
     "data": {
      "text/plain": [
       "['9d8fa3a7-9b72-45f1-b2ed-4522f04b8a1e',\n",
       " '8a60670a-1d67-40fd-ad92-90c272675554',\n",
       " 'da1d3c2f-33f8-48e2-bd46-ab3b14458bf7',\n",
       " '3429bdf8-330e-49af-98e9-8bcdf2eeca30',\n",
       " '88d84e89-d571-45a6-8483-881553a5b6e3',\n",
       " '6d3cd102-8d5d-452c-938c-f57ea7b90c1d',\n",
       " '538ad090-c331-4667-94c7-b7588a6fe541',\n",
       " 'f8fc8608-35fe-4500-9bd5-a559dd9dd87b',\n",
       " '66fc4d4e-f425-4dcf-a2ac-7105ad7769e4',\n",
       " '3ad6b281-07fe-4d10-95fd-533e9a60a73b',\n",
       " '3819c4d8-b3d0-489f-977d-0b4ebc73e3d2',\n",
       " 'ceb566cc-5ae2-445d-a9ac-b3585295af32',\n",
       " '40f7a942-ffa9-4d60-8627-0dfe1afb7ea2',\n",
       " 'df484d57-6779-43b9-8b0f-130630efc24e',\n",
       " '9259b96a-fba9-4ff2-a5ad-6c022dd462f1',\n",
       " '7bd4c365-30d0-4338-98ff-cc587a24dc28',\n",
       " '1882e455-5799-47a3-8cdc-7e2ddda481d2',\n",
       " 'f1fdb0f2-903c-4f2e-bc17-4755252eee3d',\n",
       " '8844caef-904e-4bf8-bca9-bc92407b2f6a',\n",
       " '6d5b6c54-6fbc-4d9c-a7df-dfde37b40fb9',\n",
       " 'eef093ae-0ab5-4f33-a719-a9e4496b991d',\n",
       " '7616bbf8-d116-42cf-8500-7b84a5f3b411',\n",
       " '0c54e6f9-8cab-4619-9a0a-ed41ba2e2f5c',\n",
       " '2e1dbffa-0ca9-499b-972f-d49651a4683b',\n",
       " 'fab9549b-c76d-46e9-bcb2-1efce2158102',\n",
       " 'f07ed8af-29c9-446a-96f4-4d020e5c0b47',\n",
       " 'd26e59e5-106f-4d6d-af2b-01e0f2e8034b',\n",
       " 'a6850805-f516-45b1-8d5f-63cab7248f67',\n",
       " 'f29413af-1765-4ebd-a2e6-8c81d92eba71',\n",
       " 'aca27038-de6b-4122-a5c6-d4951fb0ed98',\n",
       " '1854f609-2ea8-4bc5-9b5e-31705400a609',\n",
       " '3fa5bb56-9948-4014-9ba9-62258d5cf024']"
      ]
     },
     "execution_count": 29,
     "metadata": {},
     "output_type": "execute_result"
    }
   ],
   "source": [
    "new_uids"
   ]
  },
  {
   "cell_type": "code",
   "execution_count": 30,
   "id": "7a708ead-92f3-4bf6-adf6-8ba084ce9f22",
   "metadata": {},
   "outputs": [],
   "source": [
    "with Path(\"/nsls2/xf28id2/temp_data_folder/uids_khalifah_307622_part_1.txt\").open(\"w\") as f:\n",
    "    f.write(\"\\n\".join(new_uids))"
   ]
  },
  {
   "cell_type": "code",
   "execution_count": null,
   "id": "386cdb47-929a-491a-9c96-56e6d32fae08",
   "metadata": {},
   "outputs": [],
   "source": []
  }
 ],
 "metadata": {
  "kernelspec": {
   "display_name": "Python 3 (ipykernel)",
   "language": "python",
   "name": "python3"
  },
  "language_info": {
   "codemirror_mode": {
    "name": "ipython",
    "version": 3
   },
   "file_extension": ".py",
   "mimetype": "text/x-python",
   "name": "python",
   "nbconvert_exporter": "python",
   "pygments_lexer": "ipython3",
   "version": "3.9.6"
  }
 },
 "nbformat": 4,
 "nbformat_minor": 5
}
