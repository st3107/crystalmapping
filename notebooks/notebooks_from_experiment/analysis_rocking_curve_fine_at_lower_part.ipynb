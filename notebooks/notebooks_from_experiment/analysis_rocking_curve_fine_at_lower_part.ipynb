{
 "cells": [
  {
   "cell_type": "markdown",
   "id": "139f3439-e1f0-4a92-90ea-e979f0c8df37",
   "metadata": {},
   "source": [
    "# Run analysis on the data"
   ]
  },
  {
   "cell_type": "code",
   "execution_count": 1,
   "id": "7342c3dc-2cff-4496-8404-9de6a54060e3",
   "metadata": {},
   "outputs": [
    {
     "name": "stderr",
     "output_type": "stream",
     "text": [
      "/home/xf28id2/conda_envs/khalifah_20210725/lib/python3.9/site-packages/pims/image_reader.py:26: RuntimeWarning: PIMS image_reader.py could not find scikit-image. Falling back to matplotlib's imread(), which uses floats instead of integers. This may break your scripts. \n",
      "(To ignore this warning, include the line \"warnings.simplefilter(\"ignore\", RuntimeWarning)\" in your script.)\n",
      "  warnings.warn(RuntimeWarning(ski_preferred))\n",
      "WARNING:silx.opencl.common:Unable to import pyOpenCl. Please install it from: https://pypi.org/project/pyopencl\n"
     ]
    }
   ],
   "source": [
    "%run -i ~/Documents/tomology/tomography/utils.py"
   ]
  },
  {
   "cell_type": "code",
   "execution_count": 2,
   "id": "e34c3868-1118-4368-83e7-dfecded474ad",
   "metadata": {},
   "outputs": [],
   "source": [
    "%matplotlib qt"
   ]
  },
  {
   "cell_type": "code",
   "execution_count": 3,
   "id": "047edb7d-6d1d-473b-b576-af1886ba4b48",
   "metadata": {},
   "outputs": [],
   "source": [
    "import pyFAI\n",
    "import pathlib\n",
    "\n",
    "from ipywidgets import interact_manual"
   ]
  },
  {
   "cell_type": "markdown",
   "id": "2c1ac9a3-ef96-451d-bc53-323ee8951ae2",
   "metadata": {},
   "source": [
    "## Create the calculator"
   ]
  },
  {
   "cell_type": "code",
   "execution_count": 4,
   "id": "bb7c6a6f-73af-4cdc-af2e-8e4f6b0bd267",
   "metadata": {},
   "outputs": [],
   "source": [
    "C = Calculator()"
   ]
  },
  {
   "cell_type": "markdown",
   "id": "8ce5abcd-faf8-4bbc-b825-1bc884c78339",
   "metadata": {},
   "source": [
    "## Load the Run Data"
   ]
  },
  {
   "cell_type": "code",
   "execution_count": 5,
   "id": "df11fd9d-c07b-4ca1-8a46-c1e5dba50f47",
   "metadata": {},
   "outputs": [],
   "source": [
    "from databroker import catalog\n",
    "\n",
    "db = catalog[\"xpdd\"]"
   ]
  },
  {
   "cell_type": "code",
   "execution_count": 6,
   "id": "e9054076-326a-4c34-af7f-1067cd11dec7",
   "metadata": {},
   "outputs": [],
   "source": [
    "UID = '46e695e0-1638-4045-a1ff-1506854d3c13'\n",
    "run = db[UID]\n",
    "C.metadata = dict(run.metadata[\"start\"])"
   ]
  },
  {
   "cell_type": "code",
   "execution_count": null,
   "id": "267bf3d3-91d9-430f-9cfb-00815219c0bc",
   "metadata": {},
   "outputs": [],
   "source": [
    "C.frames_arr = run.primary.to_dask()[\"dexela_image\"]\n",
    "C.frames_arr"
   ]
  },
  {
   "cell_type": "markdown",
   "id": "30a4f7fb-c1d9-4afb-ba44-6b70c3af36af",
   "metadata": {},
   "source": [
    "## Load the calibration data"
   ]
  },
  {
   "cell_type": "code",
   "execution_count": 7,
   "id": "d84cdd5f-c8aa-4201-9176-01ed360b648a",
   "metadata": {},
   "outputs": [],
   "source": [
    "PONI_FILE = \"/nsls2/data/xpd/legacy/processed/from_mehmet/CeO2_0.25x0.25_beam.poni\"\n",
    "C.ai = pyFAI.load(PONI_FILE) if PONI_FILE else pyFAI.azimuthalIntegrator.AzimuthalIntegrator(dist=200, wavelength=0.186, detector=\"perkin\")"
   ]
  },
  {
   "cell_type": "markdown",
   "id": "341ab1df-2743-4f9d-9b77-1fc8addc33de",
   "metadata": {},
   "source": [
    "## Choose the Max image"
   ]
  },
  {
   "cell_type": "code",
   "execution_count": 8,
   "id": "9404ac4d-223a-4f14-8ca2-6b4cc3fcc558",
   "metadata": {},
   "outputs": [
    {
     "data": {
      "application/vnd.jupyter.widget-view+json": {
       "model_id": "824100a4eaff4edb82d0ffecf5826024",
       "version_major": 2,
       "version_minor": 0
      },
      "text/plain": [
       "interactive(children=(Text(value='/nsls2/data/xpd/legacy/processed/xpdUser/tiff_base/PARADIM-1_46e695e0-1638-4…"
      ]
     },
     "metadata": {},
     "output_type": "display_data"
    },
    {
     "data": {
      "text/plain": [
       "<function __main__.show_npy_array(template: str, index: int, **kwargs)>"
      ]
     },
     "execution_count": 8,
     "metadata": {},
     "output_type": "execute_result"
    }
   ],
   "source": [
    "interact_manual(\n",
    "    show_npy_array, \n",
    "    template=\"/nsls2/data/xpd/legacy/processed/xpdUser/tiff_base/PARADIM-1_46e695e0-1638-4045-a1ff-1506854d3c13/max/PARADIM-1_{}_max.npy\",\n",
    "    index=(1, 801)\n",
    ")"
   ]
  },
  {
   "cell_type": "code",
   "execution_count": 12,
   "id": "da06bdad-d8c4-421c-b700-49f7c0bb2982",
   "metadata": {},
   "outputs": [],
   "source": [
    "C.light = np.load(\"/nsls2/data/xpd/legacy/processed/xpdUser/tiff_base/PARADIM-1_46e695e0-1638-4045-a1ff-1506854d3c13/max/PARADIM-1_801_max.npy\")\n",
    "C.dark = np.load(\"/nsls2/data/xpd/legacy/processed/xpdUser/tiff_base/PARADIM-1_46e695e0-1638-4045-a1ff-1506854d3c13/min/PARADIM-1_801_min.npy\")"
   ]
  },
  {
   "cell_type": "raw",
   "id": "a1c5e189-a53e-477f-8fa0-48eac5d5d31b",
   "metadata": {},
   "source": [
    "C.calc_dark_and_light_from_frames_arr()"
   ]
  },
  {
   "cell_type": "markdown",
   "id": "1cd38f66-dd99-4c4b-b245-f03ed780e3b8",
   "metadata": {},
   "source": [
    "## Subtract the dark from the light"
   ]
  },
  {
   "cell_type": "code",
   "execution_count": 13,
   "id": "8fc40c45-20f3-442f-8473-31fba7057aa4",
   "metadata": {},
   "outputs": [],
   "source": [
    "C.light -= C.dark"
   ]
  },
  {
   "cell_type": "markdown",
   "id": "b9d09867-7918-408e-a10a-239715deab12",
   "metadata": {},
   "source": [
    "## Locate the peaks and create windows"
   ]
  },
  {
   "cell_type": "code",
   "execution_count": 8,
   "id": "a1216e8d-266f-4f89-b8d5-e9269031fca7",
   "metadata": {},
   "outputs": [],
   "source": [
    "# tp.locate?"
   ]
  },
  {
   "cell_type": "code",
   "execution_count": 19,
   "id": "d7f7452d-ccfd-4a33-8c86-7c3dfe7be068",
   "metadata": {},
   "outputs": [],
   "source": [
    "C.calc_peaks_from_light_frame(25, separation=10, threshold=60)"
   ]
  },
  {
   "cell_type": "code",
   "execution_count": 20,
   "id": "480f1f7b-7804-4d27-a133-57c05838b7a5",
   "metadata": {},
   "outputs": [],
   "source": [
    "C.calc_windows_from_peaks(num=100, width=31)\n",
    "C.show_windows(size=10, vmax=6000)\n",
    "plt.show()"
   ]
  },
  {
   "cell_type": "markdown",
   "id": "4455ba0c-346d-46e9-906f-3ef5a8791612",
   "metadata": {},
   "source": [
    "## Run throught the images to calculate the intensity in the windows"
   ]
  },
  {
   "cell_type": "code",
   "execution_count": 21,
   "id": "11074726-6d4f-47cd-bd42-79eeff849de3",
   "metadata": {},
   "outputs": [
    {
     "name": "stdout",
     "output_type": "stream",
     "text": [
      "Process frame 801 / 801.\r"
     ]
    }
   ],
   "source": [
    "C.calc_intensity_in_windows()"
   ]
  },
  {
   "cell_type": "code",
   "execution_count": 22,
   "id": "e228cd47-a263-4c6d-9410-1fb64df52cb0",
   "metadata": {},
   "outputs": [],
   "source": [
    "C.reshape_intensity()\n",
    "C.calc_coords()\n",
    "C.assign_q_values()"
   ]
  },
  {
   "cell_type": "code",
   "execution_count": 23,
   "id": "986b6bee-20cb-43df-a1c4-c341b37685fd",
   "metadata": {},
   "outputs": [],
   "source": [
    "facet = C.show_intensity(col_wrap=8)\n",
    "axes = facet.axes.flatten()\n",
    "for i in range(C.windows.shape[0]):\n",
    "    d = 2 * np.pi / C.windows[\"Q\"]\n",
    "    axes[i].set_title(\"d = {:.3f} nm\".format(d.iloc[i]))\n",
    "plt.show()"
   ]
  },
  {
   "cell_type": "markdown",
   "id": "cc4d4863-b1e3-455a-b9d2-9680e1b797ba",
   "metadata": {},
   "source": [
    "## Save the result"
   ]
  },
  {
   "cell_type": "code",
   "execution_count": 24,
   "id": "e212f0a5-84b1-42ad-b2cb-1302f0176988",
   "metadata": {},
   "outputs": [],
   "source": [
    "BASE = \"/nsls2/data/xpd/legacy/processed/xpdUser/tiff_base/\"\n",
    "FILENAME = pathlib.Path(BASE).joinpath(\"{}_{}.nc\".format(C.metadata[\"sample_name\"], C.metadata[\"uid\"]))\n",
    "C.to_dataset().to_netcdf(FILENAME)"
   ]
  },
  {
   "cell_type": "markdown",
   "id": "8879ecf1-75bc-41fa-ae7a-7b19d9f75597",
   "metadata": {},
   "source": [
    "## Load the result again"
   ]
  },
  {
   "cell_type": "code",
   "execution_count": 10,
   "id": "4e6f448a-1640-4491-ad07-3dc385f93d51",
   "metadata": {},
   "outputs": [],
   "source": [
    "BASE = \"/nsls2/data/xpd/legacy/processed/xpdUser/tiff_base/\"\n",
    "FILENAME = pathlib.Path(BASE).joinpath(\"{}_{}.nc\".format(C.metadata[\"sample_name\"], C.metadata[\"uid\"]))\n",
    "ds = xr.load_dataset(FILENAME)"
   ]
  },
  {
   "cell_type": "code",
   "execution_count": 15,
   "id": "a8cf40e0-6ea7-49d0-a939-74d94fc13ebd",
   "metadata": {},
   "outputs": [
    {
     "data": {
      "text/plain": [
       "<xarray.plot.facetgrid.FacetGrid at 0x7fe76818a7f0>"
      ]
     },
     "execution_count": 15,
     "metadata": {},
     "output_type": "execute_result"
    }
   ],
   "source": [
    "ds[\"intensity\"].plot(col=\"grain\", col_wrap=4)"
   ]
  },
  {
   "cell_type": "code",
   "execution_count": null,
   "id": "50ba4cdd-f1e9-43f4-bc64-5d980f9adf8f",
   "metadata": {},
   "outputs": [],
   "source": []
  }
 ],
 "metadata": {
  "kernelspec": {
   "display_name": "Python 3 (ipykernel)",
   "language": "python",
   "name": "python3"
  },
  "language_info": {
   "codemirror_mode": {
    "name": "ipython",
    "version": 3
   },
   "file_extension": ".py",
   "mimetype": "text/x-python",
   "name": "python",
   "nbconvert_exporter": "python",
   "pygments_lexer": "ipython3",
   "version": "3.9.6"
  }
 },
 "nbformat": 4,
 "nbformat_minor": 5
}
