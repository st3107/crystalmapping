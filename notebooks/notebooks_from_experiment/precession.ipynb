{
 "cells": [
  {
   "cell_type": "markdown",
   "id": "built-latvia",
   "metadata": {},
   "source": [
    "# The real experiment"
   ]
  },
  {
   "cell_type": "code",
   "execution_count": 1,
   "id": "willing-island",
   "metadata": {},
   "outputs": [
    {
     "name": "stderr",
     "output_type": "stream",
     "text": [
      "environment variable BLUESKY_IPYTHON_LOG_FILE is not set, using default file path '/home/xf28id2/.cache/bluesky/log/bluesky_ipython.log'\n"
     ]
    },
    {
     "name": "stdout",
     "output_type": "stream",
     "text": [
      "Activating auto-logging. Current session state plus future input saved.\n",
      "Filename       : /home/xf28id2/.cache/bluesky/log/bluesky_ipython.log\n",
      "Mode           : append\n",
      "Output logging : True\n",
      "Raw input log  : False\n",
      "Timestamping   : True\n",
      "State          : active\n",
      "Exception reporting mode: Minimal\n"
     ]
    }
   ],
   "source": [
    "%run -i ~/Documents/profile_collection/startup/00-startup.py"
   ]
  },
  {
   "cell_type": "code",
   "execution_count": 2,
   "id": "green-governor",
   "metadata": {},
   "outputs": [],
   "source": [
    "%run -i ~/Documents/profile_collection/startup/20-motors.py\n",
    "%run -i ~/Documents/profile_collection/startup/21-signals.py\n",
    "%run -i ~/Documents/profile_collection/startup/90-functions.py"
   ]
  },
  {
   "cell_type": "code",
   "execution_count": 3,
   "id": "nearby-brunei",
   "metadata": {},
   "outputs": [],
   "source": [
    "%run -i ~/Documents/tomology/tomography/plans.py"
   ]
  },
  {
   "cell_type": "markdown",
   "id": "turkish-greece",
   "metadata": {},
   "source": [
    "## The broker of the database"
   ]
  },
  {
   "cell_type": "code",
   "execution_count": 4,
   "id": "activated-croatia",
   "metadata": {},
   "outputs": [],
   "source": [
    "from databroker import catalog\n",
    "raw = catalog['xpdd']"
   ]
  },
  {
   "cell_type": "markdown",
   "id": "skilled-university",
   "metadata": {},
   "source": [
    "## Beamtiem Metadata"
   ]
  },
  {
   "cell_type": "code",
   "execution_count": 5,
   "id": "proprietary-lexington",
   "metadata": {},
   "outputs": [],
   "source": [
    "RE.md[\"bt_safn\"] = 307622\n",
    "RE.md[\"proposal_id\"] = 307690"
   ]
  },
  {
   "cell_type": "markdown",
   "id": "victorian-service",
   "metadata": {},
   "source": [
    "## GLOBAL VARIABLEs"
   ]
  },
  {
   "cell_type": "code",
   "execution_count": 6,
   "id": "racial-occasions",
   "metadata": {},
   "outputs": [],
   "source": [
    "SHUTTER_CLOSE = -47\n",
    "SHUTTER_OPEN = 0"
   ]
  },
  {
   "cell_type": "markdown",
   "id": "metallic-payment",
   "metadata": {},
   "source": [
    "## Precession"
   ]
  },
  {
   "cell_type": "code",
   "execution_count": 11,
   "id": "raised-supplier",
   "metadata": {},
   "outputs": [
    {
     "name": "stdout",
     "output_type": "stream",
     "text": [
      "A 'deferred pause' has been requested. The RunEngine will pause at the next checkpoint. To pause immediately, hit Ctrl+C again in the next 10 seconds.Deferred pause acknowledged. Continuing to checkpoint.\n",
      "\n",
      "trying a second time\n",
      "Pausing...\n"
     ]
    },
    {
     "name": "stderr",
     "output_type": "stream",
     "text": [
      "An exception has occurred, use '%tb verbose' to see the full traceback.\n"
     ]
    },
    {
     "ename": "RunEngineInterrupted",
     "evalue": "\nYour RunEngine is entering a paused state. These are your options for changing\nthe state of the RunEngine:\n\nRE.resume()    Resume the plan.\nRE.abort()     Perform cleanup, then kill plan. Mark exit_stats='aborted'.\nRE.stop()      Perform cleanup, then kill plan. Mark exit_status='success'.\nRE.halt()      Emergency Stop: Do not perform cleanup --- just stop.\n",
     "output_type": "error",
     "traceback": [
      "\u001b[0;31mRunEngineInterrupted\u001b[0m\u001b[0;31m:\u001b[0m \nYour RunEngine is entering a paused state. These are your options for changing\nthe state of the RunEngine:\n\nRE.resume()    Resume the plan.\nRE.abort()     Perform cleanup, then kill plan. Mark exit_stats='aborted'.\nRE.stop()      Perform cleanup, then kill plan. Mark exit_status='success'.\nRE.halt()      Emergency Stop: Do not perform cleanup --- just stop.\n\n"
     ]
    },
    {
     "name": "stderr",
     "output_type": "stream",
     "text": [
      "\n",
      "Your RunEngine is entering a paused state. These are your options for changing\n",
      "the state of the RunEngine:\n",
      "\n",
      "RE.resume()    Resume the plan.\n",
      "RE.abort()     Perform cleanup, then kill plan. Mark exit_stats='aborted'.\n",
      "RE.stop()      Perform cleanup, then kill plan. Mark exit_status='success'.\n",
      "RE.halt()      Emergency Stop: Do not perform cleanup --- just stop.\n",
      "Traceback (most recent call last):\n",
      "  File \"/opt/conda_envs/collection-2021-1.2/lib/python3.7/site-packages/IPython/core/interactiveshell.py\", line 3437, in run_code\n",
      "    exec(code_obj, self.user_global_ns, self.user_ns)\n",
      "  File \"<ipython-input-11-f959fbfb3a98>\", line 1, in <module>\n",
      "    RE(loop_until(mPhi, -1., 1., 3600 * 4))\n",
      "  File \"/opt/conda_envs/collection-2021-1.2/lib/python3.7/site-packages/bluesky/run_engine.py\", line 810, in __call__\n",
      "    raise RunEngineInterrupted(self.pause_msg) from None\n",
      "bluesky.utils.RunEngineInterrupted: \n",
      "Your RunEngine is entering a paused state. These are your options for changing\n",
      "the state of the RunEngine:\n",
      "\n",
      "RE.resume()    Resume the plan.\n",
      "RE.abort()     Perform cleanup, then kill plan. Mark exit_stats='aborted'.\n",
      "RE.stop()      Perform cleanup, then kill plan. Mark exit_status='success'.\n",
      "RE.halt()      Emergency Stop: Do not perform cleanup --- just stop.\n",
      "\n",
      "See None for the full traceback.\n"
     ]
    }
   ],
   "source": [
    "RE(loop_until(mPhi, -1., 1., 3600 * 4))"
   ]
  },
  {
   "cell_type": "code",
   "execution_count": 12,
   "id": "indian-cyprus",
   "metadata": {},
   "outputs": [
    {
     "name": "stdout",
     "output_type": "stream",
     "text": [
      "Aborting: running cleanup and marking exit_status as 'abort'...\n"
     ]
    },
    {
     "name": "stderr",
     "output_type": "stream",
     "text": [
      "Run aborted\n",
      "Traceback (most recent call last):\n",
      "  File \"/opt/conda_envs/collection-2021-1.2/lib/python3.7/site-packages/bluesky/run_engine.py\", line 1342, in _run\n",
      "    stashed_exception or resp)\n",
      "  File \"/opt/conda_envs/collection-2021-1.2/lib/python3.7/site-packages/bluesky/preprocessors.py\", line 1307, in __call__\n",
      "    return (yield from plan)\n",
      "  File \"/opt/conda_envs/collection-2021-1.2/lib/python3.7/site-packages/bluesky/preprocessors.py\", line 1160, in baseline_wrapper\n",
      "    return (yield from plan)\n",
      "  File \"/opt/conda_envs/collection-2021-1.2/lib/python3.7/site-packages/bluesky/preprocessors.py\", line 803, in monitor_during_wrapper\n",
      "    return (yield from plan2)\n",
      "  File \"/opt/conda_envs/collection-2021-1.2/lib/python3.7/site-packages/bluesky/preprocessors.py\", line 78, in plan_mutator\n",
      "    msg = plan_stack[-1].throw(exception)\n",
      "  File \"/opt/conda_envs/collection-2021-1.2/lib/python3.7/site-packages/bluesky/preprocessors.py\", line 78, in plan_mutator\n",
      "    msg = plan_stack[-1].throw(exception)\n",
      "  File \"/opt/conda_envs/collection-2021-1.2/lib/python3.7/site-packages/bluesky/preprocessors.py\", line 861, in fly_during_wrapper\n",
      "    return (yield from plan2)\n",
      "  File \"/opt/conda_envs/collection-2021-1.2/lib/python3.7/site-packages/bluesky/preprocessors.py\", line 78, in plan_mutator\n",
      "    msg = plan_stack[-1].throw(exception)\n",
      "  File \"/opt/conda_envs/collection-2021-1.2/lib/python3.7/site-packages/bluesky/preprocessors.py\", line 78, in plan_mutator\n",
      "    msg = plan_stack[-1].throw(exception)\n",
      "  File \"/home/xf28id2/Documents/tomology/tomography/plans.py\", line 839, in loop_until\n",
      "    yield from bps.mv(motor, left)\n",
      "  File \"/opt/conda_envs/collection-2021-1.2/lib/python3.7/site-packages/bluesky/plan_stubs.py\", line 258, in mv\n",
      "    yield Msg('wait', None, group=group)\n",
      "  File \"/opt/conda_envs/collection-2021-1.2/lib/python3.7/site-packages/bluesky/preprocessors.py\", line 195, in plan_mutator\n",
      "    inner_ret = yield msg\n",
      "  File \"/opt/conda_envs/collection-2021-1.2/lib/python3.7/site-packages/bluesky/preprocessors.py\", line 195, in plan_mutator\n",
      "    inner_ret = yield msg\n",
      "  File \"/opt/conda_envs/collection-2021-1.2/lib/python3.7/site-packages/bluesky/preprocessors.py\", line 195, in plan_mutator\n",
      "    inner_ret = yield msg\n",
      "  [Previous line repeated 1 more time]\n",
      "bluesky.utils.RequestAbort\n"
     ]
    },
    {
     "data": {
      "text/plain": [
       "()"
      ]
     },
     "execution_count": 12,
     "metadata": {},
     "output_type": "execute_result"
    }
   ],
   "source": [
    "RE.abort()"
   ]
  },
  {
   "cell_type": "code",
   "execution_count": null,
   "id": "clinical-enzyme",
   "metadata": {},
   "outputs": [],
   "source": []
  }
 ],
 "metadata": {
  "kernelspec": {
   "display_name": "Python 3",
   "language": "python",
   "name": "python3"
  },
  "language_info": {
   "codemirror_mode": {
    "name": "ipython",
    "version": 3
   },
   "file_extension": ".py",
   "mimetype": "text/x-python",
   "name": "python",
   "nbconvert_exporter": "python",
   "pygments_lexer": "ipython3",
   "version": "3.7.7"
  }
 },
 "nbformat": 4,
 "nbformat_minor": 5
}
