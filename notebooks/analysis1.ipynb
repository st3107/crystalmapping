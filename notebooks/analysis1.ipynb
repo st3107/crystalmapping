{
 "cells": [
  {
   "cell_type": "markdown",
   "id": "2fe82238",
   "metadata": {},
   "source": [
    "# Analyze the result of PARAMID-2"
   ]
  },
  {
   "cell_type": "code",
   "execution_count": 1,
   "id": "2841d725",
   "metadata": {},
   "outputs": [
    {
     "name": "stderr",
     "output_type": "stream",
     "text": [
      "WARNING:silx.opencl.common:The module pyOpenCL has been imported but can't be used here\n"
     ]
    },
    {
     "name": "stdout",
     "output_type": "stream",
     "text": [
      "Namespace: ['In', 'Out', 'cbs', 'db_ana', 'db_csv', 'db_raw', 'df_uid', 'exit', 'get_ipython', 'mpl', 'np', 'pd', 'plt', 'pymongo', 'quit', 'tp', 'utils', 'xr']\n"
     ]
    }
   ],
   "source": [
    "# load namespace\n",
    "%run -i startup.py"
   ]
  },
  {
   "cell_type": "markdown",
   "id": "c2f44a82",
   "metadata": {},
   "source": [
    "## Try no threshold\n",
    "\n",
    "Intend to have a continuous distribution of grain on the map. Try no threshold in the `trackpy.locate`. Show results here."
   ]
  },
  {
   "cell_type": "code",
   "execution_count": 3,
   "id": "f8d2fb9e",
   "metadata": {},
   "outputs": [],
   "source": [
    "# df = db_csv.get_df(\"60b56b30161f0a57434edb52\")\n",
    "# df = tp.filter_stubs(df, threshold=200)\n",
    "# grouped = df.groupby(\"particle\", sort=False)[\"mass\"]\n",
    "# largest_10 = grouped.sum().nlargest(10)\n",
    "# sel_df = df[df[\"particle\"].isin(largest_10.index)]\n",
    "\n",
    "# oid = db_csv.insert(sel_df, {\"source_id\": \"60b56b30161f0a57434edb52\", \"tag\": \"sliced dataframe\"})\n",
    "# oid"
   ]
  },
  {
   "cell_type": "code",
   "execution_count": 5,
   "id": "75ad9a74",
   "metadata": {},
   "outputs": [],
   "source": [
    "sel_df = db_csv.get_df(\"60b691d84523929818fb267d\")\n",
    "sel_grouped = sel_df.groupby(\"particle\", sort=False)"
   ]
  },
  {
   "cell_type": "code",
   "execution_count": 6,
   "id": "4724a785",
   "metadata": {},
   "outputs": [],
   "source": [
    "image = np.zeros_like(np.load(\"data/PARAMID-2_background_1.npy\"))"
   ]
  },
  {
   "cell_type": "code",
   "execution_count": 7,
   "id": "136c2ef0",
   "metadata": {},
   "outputs": [
    {
     "data": {
      "image/png": "[encoded data removed]",
      "text/plain": [
       "<Figure size 432x576 with 1 Axes>"
      ]
     },
     "metadata": {
      "needs_background": "light"
     },
     "output_type": "display_data"
    }
   ],
   "source": [
    "fig = plt.figure(figsize=(6, 8))\n",
    "ax = fig.add_subplot(111)\n",
    "utils.set_real_aspect(ax)\n",
    "tp.plot_traj(sel_df, ax=ax, superimpose=image);"
   ]
  },
  {
   "cell_type": "markdown",
   "id": "9d7a65c7",
   "metadata": {},
   "source": [
    "The trajectories of the Bragg peaks on the detector. It doesn't move much."
   ]
  },
  {
   "cell_type": "code",
   "execution_count": 8,
   "id": "dc0d575a",
   "metadata": {},
   "outputs": [],
   "source": [
    "def map_to_dist(data):\n",
    "    return ((data[\"x\"] - data[\"x\"].mean()) ** 2 + (data[\"y\"] - data[\"y\"].mean()) ** 2).apply(np.sqrt)"
   ]
  },
  {
   "cell_type": "code",
   "execution_count": 9,
   "id": "d5e8c296",
   "metadata": {},
   "outputs": [],
   "source": [
    "def plot_hist_dist():\n",
    "    stds = []\n",
    "    names = []\n",
    "    for name, group in sel_df.groupby(\"particle\"):\n",
    "        dist = map_to_dist(group)\n",
    "        stds.append(dist.std())\n",
    "        names.append(name)\n",
    "        dist.plot.hist(bins=np.arange(0, 50, 1))\n",
    "    plt.xlabel(\"deviation from average (pixel)\")\n",
    "    legends = [\"{:05d}: {:3d}\".format(int(n), int(s)) for n, s in zip(names, stds)]\n",
    "    plt.legend(legends, title=\"std\")\n",
    "    return"
   ]
  },
  {
   "cell_type": "code",
   "execution_count": 10,
   "id": "3e5da76b",
   "metadata": {},
   "outputs": [
    {
     "data": {
      "image/png": "[encoded data removed]",
      "text/plain": [
       "<Figure size 432x288 with 1 Axes>"
      ]
     },
     "metadata": {
      "needs_background": "light"
     },
     "output_type": "display_data"
    }
   ],
   "source": [
    "plot_hist_dist()"
   ]
  },
  {
   "cell_type": "markdown",
   "id": "a437ca35",
   "metadata": {},
   "source": [
    "The range of the movement of the most of the Bragg peaks are in 20 pixels way."
   ]
  },
  {
   "cell_type": "code",
   "execution_count": 11,
   "id": "e79085a2",
   "metadata": {},
   "outputs": [],
   "source": [
    "altas = utils.create_atlas(sel_df)"
   ]
  },
  {
   "cell_type": "code",
   "execution_count": 12,
   "id": "46e47d00",
   "metadata": {},
   "outputs": [
    {
     "data": {
      "text/html": [
       "<div><svg style=\"position: absolute; width: 0; height: 0; overflow: hidden\">\n",
       "<defs>\n",
       "<symbol id=\"icon-database\" viewBox=\"0 0 32 32\">\n",
       "<path d=\"M16 0c-8.837 0-16 2.239-16 5v4c0 2.761 7.163 5 16 5s16-2.239 16-5v-4c0-2.761-7.163-5-16-5z\"></path>\n",
       "<path d=\"M16 17c-8.837 0-16-2.239-16-5v6c0 2.761 7.163 5 16 5s16-2.239 16-5v-6c0 2.761-7.163 5-16 5z\"></path>\n",
       "<path d=\"M16 26c-8.837 0-16-2.239-16-5v6c0 2.761 7.163 5 16 5s16-2.239 16-5v-6c0 2.761-7.163 5-16 5z\"></path>\n",
       "</symbol>\n",
       "<symbol id=\"icon-file-text2\" viewBox=\"0 0 32 32\">\n",
       "<path d=\"M28.681 7.159c-0.694-0.947-1.662-2.053-2.724-3.116s-2.169-2.030-3.116-2.724c-1.612-1.182-2.393-1.319-2.841-1.319h-15.5c-1.378 0-2.5 1.121-2.5 2.5v27c0 1.378 1.122 2.5 2.5 2.5h23c1.378 0 2.5-1.122 2.5-2.5v-19.5c0-0.448-0.137-1.23-1.319-2.841zM24.543 5.457c0.959 0.959 1.712 1.825 2.268 2.543h-4.811v-4.811c0.718 0.556 1.584 1.309 2.543 2.268zM28 29.5c0 0.271-0.229 0.5-0.5 0.5h-23c-0.271 0-0.5-0.229-0.5-0.5v-27c0-0.271 0.229-0.5 0.5-0.5 0 0 15.499-0 15.5 0v7c0 0.552 0.448 1 1 1h7v19.5z\"></path>\n",
       "<path d=\"M23 26h-14c-0.552 0-1-0.448-1-1s0.448-1 1-1h14c0.552 0 1 0.448 1 1s-0.448 1-1 1z\"></path>\n",
       "<path d=\"M23 22h-14c-0.552 0-1-0.448-1-1s0.448-1 1-1h14c0.552 0 1 0.448 1 1s-0.448 1-1 1z\"></path>\n",
       "<path d=\"M23 18h-14c-0.552 0-1-0.448-1-1s0.448-1 1-1h14c0.552 0 1 0.448 1 1s-0.448 1-1 1z\"></path>\n",
       "</symbol>\n",
       "</defs>\n",
       "</svg>\n",
       "<style>/* CSS stylesheet for displaying xarray objects in jupyterlab.\n",
       " *\n",
       " */\n",
       "\n",
       ":root {\n",
       "  --xr-font-color0: var(--jp-content-font-color0, rgba(0, 0, 0, 1));\n",
       "  --xr-font-color2: var(--jp-content-font-color2, rgba(0, 0, 0, 0.54));\n",
       "  --xr-font-color3: var(--jp-content-font-color3, rgba(0, 0, 0, 0.38));\n",
       "  --xr-border-color: var(--jp-border-color2, #e0e0e0);\n",
       "  --xr-disabled-color: var(--jp-layout-color3, #bdbdbd);\n",
       "  --xr-background-color: var(--jp-layout-color0, white);\n",
       "  --xr-background-color-row-even: var(--jp-layout-color1, white);\n",
       "  --xr-background-color-row-odd: var(--jp-layout-color2, #eeeeee);\n",
       "}\n",
       "\n",
       "html[theme=dark],\n",
       "body.vscode-dark {\n",
       "  --xr-font-color0: rgba(255, 255, 255, 1);\n",
       "  --xr-font-color2: rgba(255, 255, 255, 0.54);\n",
       "  --xr-font-color3: rgba(255, 255, 255, 0.38);\n",
       "  --xr-border-color: #1F1F1F;\n",
       "  --xr-disabled-color: #515151;\n",
       "  --xr-background-color: #111111;\n",
       "  --xr-background-color-row-even: #111111;\n",
       "  --xr-background-color-row-odd: #313131;\n",
       "}\n",
       "\n",
       ".xr-wrap {\n",
       "  display: block;\n",
       "  min-width: 300px;\n",
       "  max-width: 700px;\n",
       "}\n",
       "\n",
       ".xr-text-repr-fallback {\n",
       "  /* fallback to plain text repr when CSS is not injected (untrusted notebook) */\n",
       "  display: none;\n",
       "}\n",
       "\n",
       ".xr-header {\n",
       "  padding-top: 6px;\n",
       "  padding-bottom: 6px;\n",
       "  margin-bottom: 4px;\n",
       "  border-bottom: solid 1px var(--xr-border-color);\n",
       "}\n",
       "\n",
       ".xr-header > div,\n",
       ".xr-header > ul {\n",
       "  display: inline;\n",
       "  margin-top: 0;\n",
       "  margin-bottom: 0;\n",
       "}\n",
       "\n",
       ".xr-obj-type,\n",
       ".xr-array-name {\n",
       "  margin-left: 2px;\n",
       "  margin-right: 10px;\n",
       "}\n",
       "\n",
       ".xr-obj-type {\n",
       "  color: var(--xr-font-color2);\n",
       "}\n",
       "\n",
       ".xr-sections {\n",
       "  padding-left: 0 !important;\n",
       "  display: grid;\n",
       "  grid-template-columns: 150px auto auto 1fr 20px 20px;\n",
       "}\n",
       "\n",
       ".xr-section-item {\n",
       "  display: contents;\n",
       "}\n",
       "\n",
       ".xr-section-item input {\n",
       "  display: none;\n",
       "}\n",
       "\n",
       ".xr-section-item input + label {\n",
       "  color: var(--xr-disabled-color);\n",
       "}\n",
       "\n",
       ".xr-section-item input:enabled + label {\n",
       "  cursor: pointer;\n",
       "  color: var(--xr-font-color2);\n",
       "}\n",
       "\n",
       ".xr-section-item input:enabled + label:hover {\n",
       "  color: var(--xr-font-color0);\n",
       "}\n",
       "\n",
       ".xr-section-summary {\n",
       "  grid-column: 1;\n",
       "  color: var(--xr-font-color2);\n",
       "  font-weight: 500;\n",
       "}\n",
       "\n",
       ".xr-section-summary > span {\n",
       "  display: inline-block;\n",
       "  padding-left: 0.5em;\n",
       "}\n",
       "\n",
       ".xr-section-summary-in:disabled + label {\n",
       "  color: var(--xr-font-color2);\n",
       "}\n",
       "\n",
       ".xr-section-summary-in + label:before {\n",
       "  display: inline-block;\n",
       "  content: '►';\n",
       "  font-size: 11px;\n",
       "  width: 15px;\n",
       "  text-align: center;\n",
       "}\n",
       "\n",
       ".xr-section-summary-in:disabled + label:before {\n",
       "  color: var(--xr-disabled-color);\n",
       "}\n",
       "\n",
       ".xr-section-summary-in:checked + label:before {\n",
       "  content: '▼';\n",
       "}\n",
       "\n",
       ".xr-section-summary-in:checked + label > span {\n",
       "  display: none;\n",
       "}\n",
       "\n",
       ".xr-section-summary,\n",
       ".xr-section-inline-details {\n",
       "  padding-top: 4px;\n",
       "  padding-bottom: 4px;\n",
       "}\n",
       "\n",
       ".xr-section-inline-details {\n",
       "  grid-column: 2 / -1;\n",
       "}\n",
       "\n",
       ".xr-section-details {\n",
       "  display: none;\n",
       "  grid-column: 1 / -1;\n",
       "  margin-bottom: 5px;\n",
       "}\n",
       "\n",
       ".xr-section-summary-in:checked ~ .xr-section-details {\n",
       "  display: contents;\n",
       "}\n",
       "\n",
       ".xr-array-wrap {\n",
       "  grid-column: 1 / -1;\n",
       "  display: grid;\n",
       "  grid-template-columns: 20px auto;\n",
       "}\n",
       "\n",
       ".xr-array-wrap > label {\n",
       "  grid-column: 1;\n",
       "  vertical-align: top;\n",
       "}\n",
       "\n",
       ".xr-preview {\n",
       "  color: var(--xr-font-color3);\n",
       "}\n",
       "\n",
       ".xr-array-preview,\n",
       ".xr-array-data {\n",
       "  padding: 0 5px !important;\n",
       "  grid-column: 2;\n",
       "}\n",
       "\n",
       ".xr-array-data,\n",
       ".xr-array-in:checked ~ .xr-array-preview {\n",
       "  display: none;\n",
       "}\n",
       "\n",
       ".xr-array-in:checked ~ .xr-array-data,\n",
       ".xr-array-preview {\n",
       "  display: inline-block;\n",
       "}\n",
       "\n",
       ".xr-dim-list {\n",
       "  display: inline-block !important;\n",
       "  list-style: none;\n",
       "  padding: 0 !important;\n",
       "  margin: 0;\n",
       "}\n",
       "\n",
       ".xr-dim-list li {\n",
       "  display: inline-block;\n",
       "  padding: 0;\n",
       "  margin: 0;\n",
       "}\n",
       "\n",
       ".xr-dim-list:before {\n",
       "  content: '(';\n",
       "}\n",
       "\n",
       ".xr-dim-list:after {\n",
       "  content: ')';\n",
       "}\n",
       "\n",
       ".xr-dim-list li:not(:last-child):after {\n",
       "  content: ',';\n",
       "  padding-right: 5px;\n",
       "}\n",
       "\n",
       ".xr-has-index {\n",
       "  font-weight: bold;\n",
       "}\n",
       "\n",
       ".xr-var-list,\n",
       ".xr-var-item {\n",
       "  display: contents;\n",
       "}\n",
       "\n",
       ".xr-var-item > div,\n",
       ".xr-var-item label,\n",
       ".xr-var-item > .xr-var-name span {\n",
       "  background-color: var(--xr-background-color-row-even);\n",
       "  margin-bottom: 0;\n",
       "}\n",
       "\n",
       ".xr-var-item > .xr-var-name:hover span {\n",
       "  padding-right: 5px;\n",
       "}\n",
       "\n",
       ".xr-var-list > li:nth-child(odd) > div,\n",
       ".xr-var-list > li:nth-child(odd) > label,\n",
       ".xr-var-list > li:nth-child(odd) > .xr-var-name span {\n",
       "  background-color: var(--xr-background-color-row-odd);\n",
       "}\n",
       "\n",
       ".xr-var-name {\n",
       "  grid-column: 1;\n",
       "}\n",
       "\n",
       ".xr-var-dims {\n",
       "  grid-column: 2;\n",
       "}\n",
       "\n",
       ".xr-var-dtype {\n",
       "  grid-column: 3;\n",
       "  text-align: right;\n",
       "  color: var(--xr-font-color2);\n",
       "}\n",
       "\n",
       ".xr-var-preview {\n",
       "  grid-column: 4;\n",
       "}\n",
       "\n",
       ".xr-var-name,\n",
       ".xr-var-dims,\n",
       ".xr-var-dtype,\n",
       ".xr-preview,\n",
       ".xr-attrs dt {\n",
       "  white-space: nowrap;\n",
       "  overflow: hidden;\n",
       "  text-overflow: ellipsis;\n",
       "  padding-right: 10px;\n",
       "}\n",
       "\n",
       ".xr-var-name:hover,\n",
       ".xr-var-dims:hover,\n",
       ".xr-var-dtype:hover,\n",
       ".xr-attrs dt:hover {\n",
       "  overflow: visible;\n",
       "  width: auto;\n",
       "  z-index: 1;\n",
       "}\n",
       "\n",
       ".xr-var-attrs,\n",
       ".xr-var-data {\n",
       "  display: none;\n",
       "  background-color: var(--xr-background-color) !important;\n",
       "  padding-bottom: 5px !important;\n",
       "}\n",
       "\n",
       ".xr-var-attrs-in:checked ~ .xr-var-attrs,\n",
       ".xr-var-data-in:checked ~ .xr-var-data {\n",
       "  display: block;\n",
       "}\n",
       "\n",
       ".xr-var-data > table {\n",
       "  float: right;\n",
       "}\n",
       "\n",
       ".xr-var-name span,\n",
       ".xr-var-data,\n",
       ".xr-attrs {\n",
       "  padding-left: 25px !important;\n",
       "}\n",
       "\n",
       ".xr-attrs,\n",
       ".xr-var-attrs,\n",
       ".xr-var-data {\n",
       "  grid-column: 1 / -1;\n",
       "}\n",
       "\n",
       "dl.xr-attrs {\n",
       "  padding: 0;\n",
       "  margin: 0;\n",
       "  display: grid;\n",
       "  grid-template-columns: 125px auto;\n",
       "}\n",
       "\n",
       ".xr-attrs dt,\n",
       ".xr-attrs dd {\n",
       "  padding: 0;\n",
       "  margin: 0;\n",
       "  float: left;\n",
       "  padding-right: 10px;\n",
       "  width: auto;\n",
       "}\n",
       "\n",
       ".xr-attrs dt {\n",
       "  font-weight: normal;\n",
       "  grid-column: 1;\n",
       "}\n",
       "\n",
       ".xr-attrs dt:hover span {\n",
       "  display: inline-block;\n",
       "  background: var(--xr-background-color);\n",
       "  padding-right: 10px;\n",
       "}\n",
       "\n",
       ".xr-attrs dd {\n",
       "  grid-column: 2;\n",
       "  white-space: pre-wrap;\n",
       "  word-break: break-all;\n",
       "}\n",
       "\n",
       ".xr-icon-database,\n",
       ".xr-icon-file-text2 {\n",
       "  display: inline-block;\n",
       "  vertical-align: middle;\n",
       "  width: 1em;\n",
       "  height: 1.5em !important;\n",
       "  stroke-width: 0;\n",
       "  stroke: currentColor;\n",
       "  fill: currentColor;\n",
       "}\n",
       "</style><pre class='xr-text-repr-fallback'>&lt;xarray.Dataset&gt;\n",
       "Dimensions:   (dim_0: 181, dim_1: 27, grain: 10)\n",
       "Coordinates:\n",
       "  * dim_0     (dim_0) float64 0.0 0.25 0.5 0.75 1.0 ... 44.25 44.5 44.75 45.0\n",
       "  * dim_1     (dim_1) float64 6.5 6.25 6.0 5.75 5.5 ... 1.0 0.75 0.5 0.25 0.0\n",
       "  * grain     (grain) int64 83 921 3220 3555 6477 7560 7561 7875 9220 11674\n",
       "Data variables:\n",
       "    maps      (grain, dim_0, dim_1) float64 0.0 0.0 0.0 ... 0.0 0.0 0.0\n",
       "    y         (grain) float64 3.363e+03 3.211e+03 ... 1.632e+03 1.623e+03\n",
       "    x         (grain) float64 1.445e+03 546.3 1.451e+03 ... 114.2 97.0 110.6\n",
       "    mass      (grain) float64 3.549e+05 5.285e+05 ... 1.181e+05 2.408e+05\n",
       "    size      (grain) float64 3.678 3.604 3.68 3.494 ... 3.345 3.046 2.588 2.899\n",
       "    ecc       (grain) float64 0.1249 0.1114 0.1205 ... 0.1819 0.193 0.1534\n",
       "    signal    (grain) float64 4.638e+03 7.423e+03 3.99e+03 ... 2.07e+03 5.61e+03\n",
       "    raw_mass  (grain) float64 1.072e+06 1.287e+06 ... 2.839e+05 5.358e+05\n",
       "    ep        (grain) float64 0.009514 0.0163 0.006942 ... 0.09445 0.008651</pre><div class='xr-wrap' hidden><div class='xr-header'><div class='xr-obj-type'>xarray.Dataset</div></div><ul class='xr-sections'><li class='xr-section-item'><input id='section-61addf23-49e6-47ea-8c9f-138c337fa3c3' class='xr-section-summary-in' type='checkbox' disabled ><label for='section-61addf23-49e6-47ea-8c9f-138c337fa3c3' class='xr-section-summary'  title='Expand/collapse section'>Dimensions:</label><div class='xr-section-inline-details'><ul class='xr-dim-list'><li><span class='xr-has-index'>dim_0</span>: 181</li><li><span class='xr-has-index'>dim_1</span>: 27</li><li><span class='xr-has-index'>grain</span>: 10</li></ul></div><div class='xr-section-details'></div></li><li class='xr-section-item'><input id='section-a7217229-059b-4562-b227-572b6655c6ba' class='xr-section-summary-in' type='checkbox'  checked><label for='section-a7217229-059b-4562-b227-572b6655c6ba' class='xr-section-summary' >Coordinates: <span>(3)</span></label><div class='xr-section-inline-details'></div><div class='xr-section-details'><ul class='xr-var-list'><li class='xr-var-item'><div class='xr-var-name'><span class='xr-has-index'>dim_0</span></div><div class='xr-var-dims'>(dim_0)</div><div class='xr-var-dtype'>float64</div><div class='xr-var-preview xr-preview'>0.0 0.25 0.5 ... 44.5 44.75 45.0</div><input id='attrs-9b323fd2-e32f-4995-9709-76e97336c464' class='xr-var-attrs-in' type='checkbox' disabled><label for='attrs-9b323fd2-e32f-4995-9709-76e97336c464' title='Show/Hide attributes'><svg class='icon xr-icon-file-text2'><use xlink:href='#icon-file-text2'></use></svg></label><input id='data-2ea5d153-732b-427e-bff1-c15ae6643fef' class='xr-var-data-in' type='checkbox'><label for='data-2ea5d153-732b-427e-bff1-c15ae6643fef' title='Show/Hide data repr'><svg class='icon xr-icon-database'><use xlink:href='#icon-database'></use></svg></label><div class='xr-var-attrs'><dl class='xr-attrs'></dl></div><div class='xr-var-data'><pre>array([ 0.  ,  0.25,  0.5 ,  0.75,  1.  ,  1.25,  1.5 ,  1.75,  2.  ,  2.25,\n",
       "        2.5 ,  2.75,  3.  ,  3.25,  3.5 ,  3.75,  4.  ,  4.25,  4.5 ,  4.75,\n",
       "        5.  ,  5.25,  5.5 ,  5.75,  6.  ,  6.25,  6.5 ,  6.75,  7.  ,  7.25,\n",
       "        7.5 ,  7.75,  8.  ,  8.25,  8.5 ,  8.75,  9.  ,  9.25,  9.5 ,  9.75,\n",
       "       10.  , 10.25, 10.5 , 10.75, 11.  , 11.25, 11.5 , 11.75, 12.  , 12.25,\n",
       "       12.5 , 12.75, 13.  , 13.25, 13.5 , 13.75, 14.  , 14.25, 14.5 , 14.75,\n",
       "       15.  , 15.25, 15.5 , 15.75, 16.  , 16.25, 16.5 , 16.75, 17.  , 17.25,\n",
       "       17.5 , 17.75, 18.  , 18.25, 18.5 , 18.75, 19.  , 19.25, 19.5 , 19.75,\n",
       "       20.  , 20.25, 20.5 , 20.75, 21.  , 21.25, 21.5 , 21.75, 22.  , 22.25,\n",
       "       22.5 , 22.75, 23.  , 23.25, 23.5 , 23.75, 24.  , 24.25, 24.5 , 24.75,\n",
       "       25.  , 25.25, 25.5 , 25.75, 26.  , 26.25, 26.5 , 26.75, 27.  , 27.25,\n",
       "       27.5 , 27.75, 28.  , 28.25, 28.5 , 28.75, 29.  , 29.25, 29.5 , 29.75,\n",
       "       30.  , 30.25, 30.5 , 30.75, 31.  , 31.25, 31.5 , 31.75, 32.  , 32.25,\n",
       "       32.5 , 32.75, 33.  , 33.25, 33.5 , 33.75, 34.  , 34.25, 34.5 , 34.75,\n",
       "       35.  , 35.25, 35.5 , 35.75, 36.  , 36.25, 36.5 , 36.75, 37.  , 37.25,\n",
       "       37.5 , 37.75, 38.  , 38.25, 38.5 , 38.75, 39.  , 39.25, 39.5 , 39.75,\n",
       "       40.  , 40.25, 40.5 , 40.75, 41.  , 41.25, 41.5 , 41.75, 42.  , 42.25,\n",
       "       42.5 , 42.75, 43.  , 43.25, 43.5 , 43.75, 44.  , 44.25, 44.5 , 44.75,\n",
       "       45.  ])</pre></div></li><li class='xr-var-item'><div class='xr-var-name'><span class='xr-has-index'>dim_1</span></div><div class='xr-var-dims'>(dim_1)</div><div class='xr-var-dtype'>float64</div><div class='xr-var-preview xr-preview'>6.5 6.25 6.0 5.75 ... 0.5 0.25 0.0</div><input id='attrs-c7a0bdf9-945a-4bdf-af36-c6b1cbc46a54' class='xr-var-attrs-in' type='checkbox' disabled><label for='attrs-c7a0bdf9-945a-4bdf-af36-c6b1cbc46a54' title='Show/Hide attributes'><svg class='icon xr-icon-file-text2'><use xlink:href='#icon-file-text2'></use></svg></label><input id='data-8dc7cc70-c4cf-494c-a595-937b5fbf922e' class='xr-var-data-in' type='checkbox'><label for='data-8dc7cc70-c4cf-494c-a595-937b5fbf922e' title='Show/Hide data repr'><svg class='icon xr-icon-database'><use xlink:href='#icon-database'></use></svg></label><div class='xr-var-attrs'><dl class='xr-attrs'></dl></div><div class='xr-var-data'><pre>array([6.5 , 6.25, 6.  , 5.75, 5.5 , 5.25, 5.  , 4.75, 4.5 , 4.25, 4.  , 3.75,\n",
       "       3.5 , 3.25, 3.  , 2.75, 2.5 , 2.25, 2.  , 1.75, 1.5 , 1.25, 1.  , 0.75,\n",
       "       0.5 , 0.25, 0.  ])</pre></div></li><li class='xr-var-item'><div class='xr-var-name'><span class='xr-has-index'>grain</span></div><div class='xr-var-dims'>(grain)</div><div class='xr-var-dtype'>int64</div><div class='xr-var-preview xr-preview'>83 921 3220 ... 7875 9220 11674</div><input id='attrs-855528d0-7ec9-4bf0-aa5e-e7a98415a8e7' class='xr-var-attrs-in' type='checkbox' disabled><label for='attrs-855528d0-7ec9-4bf0-aa5e-e7a98415a8e7' title='Show/Hide attributes'><svg class='icon xr-icon-file-text2'><use xlink:href='#icon-file-text2'></use></svg></label><input id='data-12dac657-f272-41e6-b05d-9931eb6e0786' class='xr-var-data-in' type='checkbox'><label for='data-12dac657-f272-41e6-b05d-9931eb6e0786' title='Show/Hide data repr'><svg class='icon xr-icon-database'><use xlink:href='#icon-database'></use></svg></label><div class='xr-var-attrs'><dl class='xr-attrs'></dl></div><div class='xr-var-data'><pre>array([   83,   921,  3220,  3555,  6477,  7560,  7561,  7875,  9220, 11674])</pre></div></li></ul></div></li><li class='xr-section-item'><input id='section-04613fe2-1550-4411-ab51-6618efe5b44b' class='xr-section-summary-in' type='checkbox'  checked><label for='section-04613fe2-1550-4411-ab51-6618efe5b44b' class='xr-section-summary' >Data variables: <span>(9)</span></label><div class='xr-section-inline-details'></div><div class='xr-section-details'><ul class='xr-var-list'><li class='xr-var-item'><div class='xr-var-name'><span>maps</span></div><div class='xr-var-dims'>(grain, dim_0, dim_1)</div><div class='xr-var-dtype'>float64</div><div class='xr-var-preview xr-preview'>0.0 0.0 0.0 ... 0.0 0.0 0.0</div><input id='attrs-73a46dca-dbfa-42f7-bc55-2a4f02d09cb8' class='xr-var-attrs-in' type='checkbox' disabled><label for='attrs-73a46dca-dbfa-42f7-bc55-2a4f02d09cb8' title='Show/Hide attributes'><svg class='icon xr-icon-file-text2'><use xlink:href='#icon-file-text2'></use></svg></label><input id='data-4824a1af-d3b3-4937-b3db-c2c57d8d8bc0' class='xr-var-data-in' type='checkbox'><label for='data-4824a1af-d3b3-4937-b3db-c2c57d8d8bc0' title='Show/Hide data repr'><svg class='icon xr-icon-database'><use xlink:href='#icon-database'></use></svg></label><div class='xr-var-attrs'><dl class='xr-attrs'></dl></div><div class='xr-var-data'><pre>array([[[0., 0., 0., ..., 0., 0., 0.],\n",
       "        [0., 0., 0., ..., 0., 0., 0.],\n",
       "        [0., 0., 0., ..., 0., 0., 0.],\n",
       "        ...,\n",
       "        [0., 0., 0., ..., 0., 0., 0.],\n",
       "        [0., 0., 0., ..., 0., 0., 0.],\n",
       "        [0., 0., 0., ..., 0., 0., 0.]],\n",
       "\n",
       "       [[0., 0., 0., ..., 0., 0., 0.],\n",
       "        [0., 0., 0., ..., 0., 0., 0.],\n",
       "        [0., 0., 0., ..., 0., 0., 0.],\n",
       "        ...,\n",
       "        [0., 0., 0., ..., 0., 0., 0.],\n",
       "        [0., 0., 0., ..., 0., 0., 0.],\n",
       "        [0., 0., 0., ..., 0., 0., 0.]],\n",
       "\n",
       "       [[0., 0., 0., ..., 0., 0., 0.],\n",
       "        [0., 0., 0., ..., 0., 0., 0.],\n",
       "        [0., 0., 0., ..., 0., 0., 0.],\n",
       "        ...,\n",
       "...\n",
       "        ...,\n",
       "        [0., 0., 0., ..., 0., 0., 0.],\n",
       "        [0., 0., 0., ..., 0., 0., 0.],\n",
       "        [0., 0., 0., ..., 0., 0., 0.]],\n",
       "\n",
       "       [[0., 0., 0., ..., 0., 0., 0.],\n",
       "        [0., 0., 0., ..., 0., 0., 0.],\n",
       "        [0., 0., 0., ..., 0., 0., 0.],\n",
       "        ...,\n",
       "        [0., 0., 0., ..., 0., 0., 0.],\n",
       "        [0., 0., 0., ..., 0., 0., 0.],\n",
       "        [0., 0., 0., ..., 0., 0., 0.]],\n",
       "\n",
       "       [[0., 0., 0., ..., 0., 0., 0.],\n",
       "        [0., 0., 0., ..., 0., 0., 0.],\n",
       "        [0., 0., 0., ..., 0., 0., 0.],\n",
       "        ...,\n",
       "        [0., 0., 0., ..., 0., 0., 0.],\n",
       "        [0., 0., 0., ..., 0., 0., 0.],\n",
       "        [0., 0., 0., ..., 0., 0., 0.]]])</pre></div></li><li class='xr-var-item'><div class='xr-var-name'><span>y</span></div><div class='xr-var-dims'>(grain)</div><div class='xr-var-dtype'>float64</div><div class='xr-var-preview xr-preview'>3.363e+03 3.211e+03 ... 1.623e+03</div><input id='attrs-0e9eb499-87e5-4225-a9dc-1d715768b3a3' class='xr-var-attrs-in' type='checkbox' disabled><label for='attrs-0e9eb499-87e5-4225-a9dc-1d715768b3a3' title='Show/Hide attributes'><svg class='icon xr-icon-file-text2'><use xlink:href='#icon-file-text2'></use></svg></label><input id='data-67eaa4a0-f6ae-48b6-8d51-ed1a027f5f4a' class='xr-var-data-in' type='checkbox'><label for='data-67eaa4a0-f6ae-48b6-8d51-ed1a027f5f4a' title='Show/Hide data repr'><svg class='icon xr-icon-database'><use xlink:href='#icon-database'></use></svg></label><div class='xr-var-attrs'><dl class='xr-attrs'></dl></div><div class='xr-var-data'><pre>array([3362.79662435, 3211.40327514, 3362.60123665, 2736.53507893,\n",
       "       3363.22466218, 3703.16433439, 3207.47251535, 1618.72820216,\n",
       "       1632.27570566, 1623.22185839])</pre></div></li><li class='xr-var-item'><div class='xr-var-name'><span>x</span></div><div class='xr-var-dims'>(grain)</div><div class='xr-var-dtype'>float64</div><div class='xr-var-preview xr-preview'>1.445e+03 546.3 ... 97.0 110.6</div><input id='attrs-60c2d605-ec14-4688-bfee-b06b15703bf6' class='xr-var-attrs-in' type='checkbox' disabled><label for='attrs-60c2d605-ec14-4688-bfee-b06b15703bf6' title='Show/Hide attributes'><svg class='icon xr-icon-file-text2'><use xlink:href='#icon-file-text2'></use></svg></label><input id='data-9fb0b42a-3d19-4163-b129-bb64415b791d' class='xr-var-data-in' type='checkbox'><label for='data-9fb0b42a-3d19-4163-b129-bb64415b791d' title='Show/Hide data repr'><svg class='icon xr-icon-database'><use xlink:href='#icon-database'></use></svg></label><div class='xr-var-attrs'><dl class='xr-attrs'></dl></div><div class='xr-var-data'><pre>array([1444.51987513,  546.28253632, 1451.15412272, 1895.2291364 ,\n",
       "       1446.5446434 ,  986.78274158,  695.83490115,  114.22224952,\n",
       "         97.00472418,  110.58096615])</pre></div></li><li class='xr-var-item'><div class='xr-var-name'><span>mass</span></div><div class='xr-var-dims'>(grain)</div><div class='xr-var-dtype'>float64</div><div class='xr-var-preview xr-preview'>3.549e+05 5.285e+05 ... 2.408e+05</div><input id='attrs-52068987-b3ea-4b23-834f-a20271b86e95' class='xr-var-attrs-in' type='checkbox' disabled><label for='attrs-52068987-b3ea-4b23-834f-a20271b86e95' title='Show/Hide attributes'><svg class='icon xr-icon-file-text2'><use xlink:href='#icon-file-text2'></use></svg></label><input id='data-8032570c-432e-48a4-b6c2-ed8177fd8e67' class='xr-var-data-in' type='checkbox'><label for='data-8032570c-432e-48a4-b6c2-ed8177fd8e67' title='Show/Hide data repr'><svg class='icon xr-icon-database'><use xlink:href='#icon-database'></use></svg></label><div class='xr-var-attrs'><dl class='xr-attrs'></dl></div><div class='xr-var-data'><pre>array([354908.02596712, 528493.02735052, 317452.6410931 , 423771.02116429,\n",
       "       318178.96716068, 458001.98905511, 360975.29924315, 379389.58003478,\n",
       "       118140.39472984, 240845.22859497])</pre></div></li><li class='xr-var-item'><div class='xr-var-name'><span>size</span></div><div class='xr-var-dims'>(grain)</div><div class='xr-var-dtype'>float64</div><div class='xr-var-preview xr-preview'>3.678 3.604 3.68 ... 2.588 2.899</div><input id='attrs-27745119-0263-46b8-8cd8-82fba430fc6d' class='xr-var-attrs-in' type='checkbox' disabled><label for='attrs-27745119-0263-46b8-8cd8-82fba430fc6d' title='Show/Hide attributes'><svg class='icon xr-icon-file-text2'><use xlink:href='#icon-file-text2'></use></svg></label><input id='data-bae01001-9d3c-4444-a97d-f8c827012a1a' class='xr-var-data-in' type='checkbox'><label for='data-bae01001-9d3c-4444-a97d-f8c827012a1a' title='Show/Hide data repr'><svg class='icon xr-icon-database'><use xlink:href='#icon-database'></use></svg></label><div class='xr-var-attrs'><dl class='xr-attrs'></dl></div><div class='xr-var-data'><pre>array([3.67836351, 3.60416358, 3.67975246, 3.4938169 , 3.67780791,\n",
       "       3.35281391, 3.34460182, 3.04643812, 2.58807298, 2.89857131])</pre></div></li><li class='xr-var-item'><div class='xr-var-name'><span>ecc</span></div><div class='xr-var-dims'>(grain)</div><div class='xr-var-dtype'>float64</div><div class='xr-var-preview xr-preview'>0.1249 0.1114 ... 0.193 0.1534</div><input id='attrs-41dad7cc-a107-47dd-9d01-ae0d36d0eb8e' class='xr-var-attrs-in' type='checkbox' disabled><label for='attrs-41dad7cc-a107-47dd-9d01-ae0d36d0eb8e' title='Show/Hide attributes'><svg class='icon xr-icon-file-text2'><use xlink:href='#icon-file-text2'></use></svg></label><input id='data-4ca50e87-ea28-42eb-8814-18175adfa3bf' class='xr-var-data-in' type='checkbox'><label for='data-4ca50e87-ea28-42eb-8814-18175adfa3bf' title='Show/Hide data repr'><svg class='icon xr-icon-database'><use xlink:href='#icon-database'></use></svg></label><div class='xr-var-attrs'><dl class='xr-attrs'></dl></div><div class='xr-var-data'><pre>array([0.12487749, 0.11139396, 0.12053671, 0.14469595, 0.12829157,\n",
       "       0.1001417 , 0.13736529, 0.18185901, 0.19300718, 0.15337139])</pre></div></li><li class='xr-var-item'><div class='xr-var-name'><span>signal</span></div><div class='xr-var-dims'>(grain)</div><div class='xr-var-dtype'>float64</div><div class='xr-var-preview xr-preview'>4.638e+03 7.423e+03 ... 5.61e+03</div><input id='attrs-ab3db2f0-7ee3-4500-89ff-e624611e1330' class='xr-var-attrs-in' type='checkbox' disabled><label for='attrs-ab3db2f0-7ee3-4500-89ff-e624611e1330' title='Show/Hide attributes'><svg class='icon xr-icon-file-text2'><use xlink:href='#icon-file-text2'></use></svg></label><input id='data-1a2af288-2e4a-4047-97fa-0513c6053a9b' class='xr-var-data-in' type='checkbox'><label for='data-1a2af288-2e4a-4047-97fa-0513c6053a9b' title='Show/Hide data repr'><svg class='icon xr-icon-database'><use xlink:href='#icon-database'></use></svg></label><div class='xr-var-attrs'><dl class='xr-attrs'></dl></div><div class='xr-var-data'><pre>array([4637.82778221, 7422.72579341, 3989.61203318, 5401.77193001,\n",
       "       4077.48437916, 7649.27893637, 6025.40058391, 8648.99065728,\n",
       "       2069.58245987, 5609.7006086 ])</pre></div></li><li class='xr-var-item'><div class='xr-var-name'><span>raw_mass</span></div><div class='xr-var-dims'>(grain)</div><div class='xr-var-dtype'>float64</div><div class='xr-var-preview xr-preview'>1.072e+06 1.287e+06 ... 5.358e+05</div><input id='attrs-602db1d2-dc7c-4ab2-a7eb-849b6579886b' class='xr-var-attrs-in' type='checkbox' disabled><label for='attrs-602db1d2-dc7c-4ab2-a7eb-849b6579886b' title='Show/Hide attributes'><svg class='icon xr-icon-file-text2'><use xlink:href='#icon-file-text2'></use></svg></label><input id='data-6a8899cf-d876-482d-b477-c1c8485f8c51' class='xr-var-data-in' type='checkbox'><label for='data-6a8899cf-d876-482d-b477-c1c8485f8c51' title='Show/Hide data repr'><svg class='icon xr-icon-database'><use xlink:href='#icon-database'></use></svg></label><div class='xr-var-attrs'><dl class='xr-attrs'></dl></div><div class='xr-var-data'><pre>array([1071940.28308824, 1287482.65934066,  879456.30445545,\n",
       "       1132465.55606407,  978531.30916844, 1088085.39574468,\n",
       "        849935.96638655,  800415.8515625 ,  283886.62173038,\n",
       "        535800.61575179])</pre></div></li><li class='xr-var-item'><div class='xr-var-name'><span>ep</span></div><div class='xr-var-dims'>(grain)</div><div class='xr-var-dtype'>float64</div><div class='xr-var-preview xr-preview'>0.009514 0.0163 ... 0.008651</div><input id='attrs-55504223-eaeb-49cc-bcb0-9b791ceaad13' class='xr-var-attrs-in' type='checkbox' disabled><label for='attrs-55504223-eaeb-49cc-bcb0-9b791ceaad13' title='Show/Hide attributes'><svg class='icon xr-icon-file-text2'><use xlink:href='#icon-file-text2'></use></svg></label><input id='data-0c9cdfe4-cd3e-437e-8b56-0ce4e65b38b0' class='xr-var-data-in' type='checkbox'><label for='data-0c9cdfe4-cd3e-437e-8b56-0ce4e65b38b0' title='Show/Hide data repr'><svg class='icon xr-icon-database'><use xlink:href='#icon-database'></use></svg></label><div class='xr-var-attrs'><dl class='xr-attrs'></dl></div><div class='xr-var-data'><pre>array([0.00951403, 0.01629643, 0.00694172, 0.05526787, 0.00934707,\n",
       "       0.00372461, 0.02710484, 0.12993149, 0.09444788, 0.00865058])</pre></div></li></ul></div></li><li class='xr-section-item'><input id='section-74748d33-7734-4734-8aec-01bb9a8baabc' class='xr-section-summary-in' type='checkbox' disabled ><label for='section-74748d33-7734-4734-8aec-01bb9a8baabc' class='xr-section-summary'  title='Expand/collapse section'>Attributes: <span>(0)</span></label><div class='xr-section-inline-details'></div><div class='xr-section-details'><dl class='xr-attrs'></dl></div></li></ul></div></div>"
      ],
      "text/plain": [
       "<xarray.Dataset>\n",
       "Dimensions:   (dim_0: 181, dim_1: 27, grain: 10)\n",
       "Coordinates:\n",
       "  * dim_0     (dim_0) float64 0.0 0.25 0.5 0.75 1.0 ... 44.25 44.5 44.75 45.0\n",
       "  * dim_1     (dim_1) float64 6.5 6.25 6.0 5.75 5.5 ... 1.0 0.75 0.5 0.25 0.0\n",
       "  * grain     (grain) int64 83 921 3220 3555 6477 7560 7561 7875 9220 11674\n",
       "Data variables:\n",
       "    maps      (grain, dim_0, dim_1) float64 0.0 0.0 0.0 ... 0.0 0.0 0.0\n",
       "    y         (grain) float64 3.363e+03 3.211e+03 ... 1.632e+03 1.623e+03\n",
       "    x         (grain) float64 1.445e+03 546.3 1.451e+03 ... 114.2 97.0 110.6\n",
       "    mass      (grain) float64 3.549e+05 5.285e+05 ... 1.181e+05 2.408e+05\n",
       "    size      (grain) float64 3.678 3.604 3.68 3.494 ... 3.345 3.046 2.588 2.899\n",
       "    ecc       (grain) float64 0.1249 0.1114 0.1205 ... 0.1819 0.193 0.1534\n",
       "    signal    (grain) float64 4.638e+03 7.423e+03 3.99e+03 ... 2.07e+03 5.61e+03\n",
       "    raw_mass  (grain) float64 1.072e+06 1.287e+06 ... 2.839e+05 5.358e+05\n",
       "    ep        (grain) float64 0.009514 0.0163 0.006942 ... 0.09445 0.008651"
      ]
     },
     "execution_count": 12,
     "metadata": {},
     "output_type": "execute_result"
    }
   ],
   "source": [
    "altas"
   ]
  },
  {
   "cell_type": "markdown",
   "id": "6267c99d",
   "metadata": {},
   "source": [
    "Get the grain maps of the 10 shiniest Brag peaks."
   ]
  },
  {
   "cell_type": "code",
   "execution_count": 13,
   "id": "4df9e75d",
   "metadata": {},
   "outputs": [
    {
     "data": {
      "image/png": "[encoded data removed]",
      "text/plain": [
       "<Figure size 432x288 with 11 Axes>"
      ]
     },
     "metadata": {
      "needs_background": "light"
     },
     "output_type": "display_data"
    }
   ],
   "source": [
    "facet = utils.plot_grain_maps(altas)\n",
    "facet.set_titles(\"{value}\")\n",
    "facet.fig.set_size_inches((6, 4))"
   ]
  },
  {
   "cell_type": "markdown",
   "id": "a538b55e",
   "metadata": {},
   "source": [
    "The distribution of the grain. The area is not continuous. I guess that the `trackpy.link` probably separate the same peak to different tracks and that's why some pixels are missing and some of the (x, y) coords of the Bragg peaks are close to each other. Maybe using a fixed window on the image and calculating the mean intensity v.s frame sequence is a better idea. The window is selected by center +/- width: center is the mean (x, y) of the peak and the width is inferred from the mean size of the peak."
   ]
  },
  {
   "cell_type": "markdown",
   "id": "0e98ffda",
   "metadata": {},
   "source": [
    "## Try the fixed window method\n",
    "\n",
    "I tested the fixed window method on the first grain and compared it with the `trackpy.link` method. It seemed that the fixed window method looks more promising. To note that, this method is still based on `trackpy` because I need to know which are to set the small window on a large image."
   ]
  },
  {
   "cell_type": "code",
   "execution_count": 14,
   "id": "c64a803b",
   "metadata": {},
   "outputs": [],
   "source": [
    "uid = df_uid[\"uid\"][0]\n",
    "run = db_raw[uid]\n",
    "\n",
    "# dask_array = run.xarray_dask()\n",
    "\n",
    "# intensity = dask_array[\"dexela_image\"][:, :, 3362-10:3362+10, 1444-10:1444+10].sum(axis=[1, 2, 3])\n",
    "# intensity\n",
    "\n",
    "# intensity = intensity.compute().to_netcdf(\"data/intensity_in_fixed_area.nc\")"
   ]
  },
  {
   "cell_type": "code",
   "execution_count": 15,
   "id": "6fba5b4e",
   "metadata": {},
   "outputs": [],
   "source": [
    "intensity = xr.load_dataarray(\"data/intensity_in_fixed_area.nc\").to_dataset()\n",
    "intensity.attrs = dict(run.start)\n",
    "intensity = utils.reshape(intensity, \"dexela_image\")\n",
    "intensity = (intensity - intensity.min()) * 0.2 # normalize"
   ]
  },
  {
   "cell_type": "code",
   "execution_count": 16,
   "id": "e412e1ea",
   "metadata": {},
   "outputs": [],
   "source": [
    "intensity2 = altas[\"maps\"][0].drop(\"grain\")\n",
    "intensity3 = altas[\"maps\"][4].drop(\"grain\")"
   ]
  },
  {
   "cell_type": "code",
   "execution_count": 17,
   "id": "08cf583f",
   "metadata": {},
   "outputs": [],
   "source": [
    "temp_atlas = xr.concat([intensity, intensity2, intensity3], dim=\"grain\")\n",
    "temp_atlas = temp_atlas.to_dataset(name=\"maps\")"
   ]
  },
  {
   "cell_type": "code",
   "execution_count": 18,
   "id": "0ea38ddb",
   "metadata": {},
   "outputs": [
    {
     "data": {
      "image/png": "[encoded data removed]",
      "text/plain": [
       "<Figure size 144x288 with 4 Axes>"
      ]
     },
     "metadata": {
      "needs_background": "light"
     },
     "output_type": "display_data"
    }
   ],
   "source": [
    "facet = utils.plot_grain_maps(temp_atlas)\n",
    "facet.set_titles(\"{value}\")\n",
    "facet.fig.set_size_inches((2, 4))"
   ]
  },
  {
   "cell_type": "markdown",
   "id": "20286fd2",
   "metadata": {},
   "source": [
    "The fig 0 is the result from fixed window method. It is the combination of two results from the `trackpy.link` because the window contains the two particles. I will try this further on all the 10 representative grains."
   ]
  }
 ],
 "metadata": {
  "kernelspec": {
   "display_name": "Python [conda env:tomology]",
   "language": "python",
   "name": "conda-env-tomology-py"
  },
  "language_info": {
   "codemirror_mode": {
    "name": "ipython",
    "version": 3
   },
   "file_extension": ".py",
   "mimetype": "text/x-python",
   "name": "python",
   "nbconvert_exporter": "python",
   "pygments_lexer": "ipython3",
   "version": "3.7.10"
  }
 },
 "nbformat": 4,
 "nbformat_minor": 5
}
